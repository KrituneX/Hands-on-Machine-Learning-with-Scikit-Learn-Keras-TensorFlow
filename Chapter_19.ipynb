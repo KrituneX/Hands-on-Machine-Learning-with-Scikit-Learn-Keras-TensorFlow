{
  "cells": [
    {
      "cell_type": "markdown",
      "metadata": {
        "id": "view-in-github",
        "colab_type": "text"
      },
      "source": [
        "<a href=\"https://colab.research.google.com/github/KrituneX/Hands-on-Machine-Learning-with-Scikit-Learn-Keras-TensorFlow/blob/main/Chapter_19.ipynb\" target=\"_parent\"><img src=\"https://colab.research.google.com/assets/colab-badge.svg\" alt=\"Open In Colab\"/></a>"
      ]
    },
    {
      "cell_type": "markdown",
      "id": "2f29b1b1",
      "metadata": {
        "id": "2f29b1b1"
      },
      "source": [
        "## Chapter 19: Deployment with TensorFlow Serving\n",
        "Ringkasan berdasarkan *Hands-On Machine Learning with Scikit-Learn, Keras, and TensorFlow* oleh Aurélien Géron."
      ]
    },
    {
      "cell_type": "markdown",
      "id": "da6cf094",
      "metadata": {
        "id": "da6cf094"
      },
      "source": [
        "### 1. Tujuan dan Pentingnya Deployment\n",
        "- Setelah model dilatih, penting untuk menyediakannya secara efisien agar dapat digunakan dalam aplikasi nyata.\n",
        "- TensorFlow Serving adalah sistem fleksibel dan berkinerja tinggi untuk menyajikan model TensorFlow dalam produksi."
      ]
    },
    {
      "cell_type": "markdown",
      "id": "174c73c4",
      "metadata": {
        "id": "174c73c4"
      },
      "source": [
        "### 2. Arsitektur TensorFlow Serving\n",
        "**Komponen Utama:**\n",
        "- `ModelServer`: server utama yang menangani permintaan prediksi.\n",
        "- `ModelConfig`: konfigurasi lokasi dan versi model.\n",
        "- `REST API` atau `gRPC API`: protokol komunikasi antara client dan server.\n",
        "\n",
        "TensorFlow Serving otomatis mendeteksi model baru jika disimpan dalam format direktori versi: `/models/my_model/1/`"
      ]
    },
    {
      "cell_type": "markdown",
      "id": "d0f2503c",
      "metadata": {
        "id": "d0f2503c"
      },
      "source": [
        "### 3. Menyimpan Model dalam Format SavedModel\n",
        "TensorFlow menggunakan format SavedModel sebagai standar untuk menyimpan model:\n",
        "- Berisi arsitektur, bobot, dan informasi untuk serving.\n",
        "\n",
        "```python\n",
        "model.save(\"my_model\")  # otomatis disimpan dalam format SavedModel\n",
        "```"
      ]
    },
    {
      "cell_type": "code",
      "execution_count": null,
      "id": "daa200f0",
      "metadata": {
        "id": "daa200f0"
      },
      "outputs": [],
      "source": [
        "# Contoh penyimpanan model untuk serving\n",
        "import tensorflow as tf\n",
        "\n",
        "model = tf.keras.Sequential([\n",
        "    tf.keras.layers.Dense(10, activation='relu', input_shape=(4,)),\n",
        "    tf.keras.layers.Dense(3, activation='softmax')\n",
        "])\n",
        "model.compile(optimizer='adam', loss='sparse_categorical_crossentropy')\n",
        "# Simpan model ke direktori bernama versi (misal: 1)\n",
        "model.save(\"/tmp/my_model/1\")"
      ]
    },
    {
      "cell_type": "markdown",
      "id": "b8bf7aef",
      "metadata": {
        "id": "b8bf7aef"
      },
      "source": [
        "### 4. Menjalankan TensorFlow Serving\n",
        "Jika sudah menginstal TensorFlow Serving, gunakan perintah berikut untuk menjalankan server:\n",
        "\n",
        "```bash\n",
        "tensorflow_model_server \\\n",
        "  --rest_api_port=8501 \\\n",
        "  --model_name=my_model \\\n",
        "  --model_base_path=\"/tmp/my_model\"\n",
        "```\n",
        "Model dapat diakses melalui REST API pada endpoint seperti:\n",
        "`http://localhost:8501/v1/models/my_model:predict`"
      ]
    },
    {
      "cell_type": "markdown",
      "id": "d4295917",
      "metadata": {
        "id": "d4295917"
      },
      "source": [
        "### 5. Format Request JSON (REST API)\n",
        "```json\n",
        "{\n",
        "  \"signature_name\": \"serving_default\",\n",
        "  \"instances\": [[1.0, 2.0, 5.0, 3.0]]\n",
        "}\n",
        "```\n",
        "Balasan:\n",
        "```json\n",
        "{\n",
        "  \"predictions\": [[0.01, 0.97, 0.02]]\n",
        "}\n",
        "```"
      ]
    },
    {
      "cell_type": "markdown",
      "id": "f7b9454a",
      "metadata": {
        "id": "f7b9454a"
      },
      "source": [
        "### 6. Alternatif Deployment\n",
        "- **TF Lite** untuk mobile/embedded.\n",
        "- **TF.js** untuk browser.\n",
        "- **ONNX** untuk interoperabilitas.\n",
        "- **Docker** dapat digunakan untuk containerizing model dengan TF Serving."
      ]
    },
    {
      "cell_type": "markdown",
      "id": "918e8285",
      "metadata": {
        "id": "918e8285"
      },
      "source": [
        "### 📌 Kesimpulan\n",
        "Deployment adalah tahap penting untuk membawa model ke lingkungan nyata.\n",
        "TensorFlow Serving menyediakan metode production-grade untuk menyajikan model ML secara efisien dan scalable."
      ]
    }
  ],
  "metadata": {
    "colab": {
      "provenance": [],
      "include_colab_link": true
    }
  },
  "nbformat": 4,
  "nbformat_minor": 5
}