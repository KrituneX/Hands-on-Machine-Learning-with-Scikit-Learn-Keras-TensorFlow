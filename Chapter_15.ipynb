{
  "cells": [
    {
      "cell_type": "markdown",
      "metadata": {
        "id": "view-in-github",
        "colab_type": "text"
      },
      "source": [
        "<a href=\"https://colab.research.google.com/github/KrituneX/Hands-on-Machine-Learning-with-Scikit-Learn-Keras-TensorFlow/blob/main/Chapter_15.ipynb\" target=\"_parent\"><img src=\"https://colab.research.google.com/assets/colab-badge.svg\" alt=\"Open In Colab\"/></a>"
      ]
    },
    {
      "cell_type": "markdown",
      "metadata": {
        "id": "gS_DqKBk9xh8"
      },
      "source": [
        "# Ringkasan Chapter 15: Processing Sequences Using RNNs and CNNs\n",
        "## Hands-On Machine Learning with Scikit-Learn, Keras, and TensorFlow (2nd Ed.)"
      ]
    },
    {
      "cell_type": "markdown",
      "metadata": {
        "id": "frDAVtKk9xh9"
      },
      "source": [
        "### 1. Recurrent Neural Networks (RNNs)\n",
        "RNN dirancang untuk memproses data berurutan, seperti teks atau sinyal waktu. RNN memiliki memori internal yang memungkinkan mereka untuk mempertahankan informasi dari langkah sebelumnya.\n",
        "\n",
        "**Rumus RNN:**\n",
        "$$ h_t = f(W_h h_{t-1} + W_x x_t + b) $$\n",
        "\n",
        "    Dimana:\n",
        "- $h_t$: Status tersembunyi saat ini\n",
        "- $x_t$: Input saat ini\n",
        "- $W_h, W_x$: Bobot\n",
        "- $b$: Bias\n"
      ]
    },
    {
      "cell_type": "markdown",
      "metadata": {
        "id": "GQ3seG1t9xh9"
      },
      "source": [
        "### 2. Long Short-Term Memory (LSTM)\n",
        "LSTM adalah jenis RNN yang dirancang untuk mengatasi masalah gradien yang hilang dengan menggunakan sel memori dan gerbang untuk mengontrol aliran informasi.\n",
        "\n",
        "    **Rumus LSTM:**\n",
        "  $$ f_t = \\sigma(W_f h_{t-1} + U_f x_t + b_f) $$\n",
        "$$ i_t = \\sigma(W_i h_{t-1} + U_i x_t + b_i) $$\n",
        "$$ o_t = \\sigma(W_o h_{t-1} + U_o x_t + b_o) $$\n",
        "$$ C_t = f_t * C_{t-1} + i_t * \\tilde{C_t} $$\n",
        "$$ h_t = o_t * \\tanh(C_t) $$\n"
      ]
    },
    {
      "cell_type": "markdown",
      "metadata": {
        "id": "PZHHQIbV9xh9"
      },
      "source": [
        "### 3. Implementasi LSTM dengan Keras\n",
        "Keras menyediakan lapisan LSTM yang mudah digunakan untuk membangun model RNN.\n",
        "\n",
        "    **Contoh Implementasi:**"
      ]
    },
    {
      "cell_type": "code",
      "execution_count": null,
      "metadata": {
        "id": "Qo741t9K9xh-"
      },
      "outputs": [],
      "source": [
        "from tensorflow import keras\n",
        "from tensorflow.keras import layers\n",
        "\n",
        "# Membangun model LSTM\n",
        "model = keras.models.Sequential([\n",
        "    layers.LSTM(100, activation='relu', input_shape=(None, 1)),\n",
        "    layers.Dense(1)\n",
        "])\n",
        "\n",
        "# Mengompilasi model\n",
        "model.compile(optimizer='adam', loss='mean_squared_error')"
      ]
    },
    {
      "cell_type": "markdown",
      "metadata": {
        "id": "U05Jl_Xk9xh-"
      },
      "source": [
        "### 4. Menggunakan CNN untuk Data Berurutan\n",
        "CNN juga dapat digunakan untuk memproses data berurutan dengan mengubah data menjadi format yang sesuai.\n",
        "\n",
        "    **Rumus Konvolusi untuk Data Berurutan:**\n",
        "   $$ (f * g)(x) = \\int f(t) g(x - t) dt $$"
      ]
    },
    {
      "cell_type": "code",
      "execution_count": null,
      "metadata": {
        "id": "3MwTSz0Z9xh-"
      },
      "outputs": [],
      "source": [
        "# Membangun model CNN untuk data berurutan\n",
        "model_cnn = keras.models.Sequential([\n",
        "    layers.Conv1D(filters=64, kernel_size=3, activation='relu', input_shape=(None, 1)),\n",
        "    layers.MaxPooling1D(pool_size=2),\n",
        "    layers.Flatten(),\n",
        "    layers.Dense(1)\n",
        "])\n",
        "\n",
        "# Mengompilasi model\n",
        "model_cnn.compile(optimizer='adam', loss='mean_squared_error')"
      ]
    },
    {
      "cell_type": "markdown",
      "metadata": {
        "id": "pp1f6jTp9xh_"
      },
      "source": [
        "### 5. Evaluasi Model RNN dan CNN\n",
        "Setelah model dilatih, evaluasi dilakukan untuk mengukur akurasi dan performa model.\n",
        "\n",
        "    **Rumus Akurasi:**\n",
        "  $$ \\text{Accuracy} = \\frac{TP + TN}{TP + TN + FP + FN} $$"
      ]
    },
    {
      "cell_type": "code",
      "execution_count": null,
      "metadata": {
        "id": "UXt9LSeY9xh_"
      },
      "outputs": [],
      "source": [
        "# Evaluasi model RNN\n",
        "# model.evaluate(X_test, y_test)\n",
        "\n",
        "# Evaluasi model CNN\n",
        "# model_cnn.evaluate(X_test, y_test)"
      ]
    },
    {
      "cell_type": "markdown",
      "metadata": {
        "id": "9uB9aN2N9xh_"
      },
      "source": [
        "### 6. Kesimpulan\n",
        "RNN dan CNN adalah alat yang kuat untuk memproses data berurutan dan gambar. Memilih arsitektur yang tepat tergantung pada jenis data dan tugas yang dihadapi."
      ]
    }
  ],
  "metadata": {
    "kernelspec": {
      "display_name": "Python 3",
      "language": "python",
      "name": "python3"
    },
    "language_info": {
      "codemirror_mode": {
        "name": "ipython",
        "version": 3
      },
      "file_extension": ".py",
      "mimetype": "text/x-python",
      "name": "python",
      "nbconvert_exporter": "python",
      "pygments_lexer": "ipython3",
      "version": "3.8.5"
    },
    "colab": {
      "provenance": [],
      "include_colab_link": true
    }
  },
  "nbformat": 4,
  "nbformat_minor": 0
}