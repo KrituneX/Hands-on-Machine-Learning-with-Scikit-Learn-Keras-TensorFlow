{
  "cells": [
    {
      "cell_type": "markdown",
      "metadata": {
        "id": "view-in-github",
        "colab_type": "text"
      },
      "source": [
        "<a href=\"https://colab.research.google.com/github/KrituneX/Hands-on-Machine-Learning-with-Scikit-Learn-Keras-TensorFlow/blob/main/Chapter_7.ipynb\" target=\"_parent\"><img src=\"https://colab.research.google.com/assets/colab-badge.svg\" alt=\"Open In Colab\"/></a>"
      ]
    },
    {
      "cell_type": "markdown",
      "metadata": {
        "id": "Ie00WzW3iaZv"
      },
      "source": [
        "# Ringkasan Chapter 7: Ensemble Learning\n",
        "## Hands-On Machine Learning with Scikit-Learn, Keras, and TensorFlow (2nd Ed.)"
      ]
    },
    {
      "cell_type": "markdown",
      "metadata": {
        "id": "KGevXz1QiaZw"
      },
      "source": [
        "### 1. Definisi Ensemble Learning\n",
        "- Ensemble Learning adalah teknik yang menggabungkan beberapa model pembelajaran mesin untuk meningkatkan akurasi dan stabilitas prediksi.\n",
        "- Dengan menggabungkan beberapa model, kita dapat mengurangi risiko overfitting dan meningkatkan generalisasi model.\n",
        "- Metode ini sangat berguna dalam situasi di mana model tunggal mungkin tidak memberikan hasil yang memuaskan."
      ]
    },
    {
      "cell_type": "markdown",
      "metadata": {
        "id": "uphpngcWiaZx"
      },
      "source": [
        "### 2. Tipe Ensemble Learning\n",
        "- **Bagging (Bootstrap Aggregating)**:\n",
        "  - Menggunakan beberapa subset dari data pelatihan untuk melatih model yang sama secara independen.\n",
        "  - Setiap model dilatih pada subset yang berbeda, dan hasilnya digabungkan untuk menghasilkan prediksi akhir.\n",
        "  - Contoh: Random Forest.\n",
        "\n",
        "- **Boosting**:\n",
        "  - Menggunakan model yang lemah secara berurutan, di mana setiap model baru berfokus pada kesalahan yang dibuat oleh model sebelumnya.\n",
        "  - Model-model ini digabungkan untuk menghasilkan prediksi akhir.\n",
        "  - Contoh: AdaBoost, Gradient Boosting.\n",
        "\n",
        "- **Stacking**:\n",
        "  - Menggabungkan beberapa model dengan menggunakan model lain (meta-learner) untuk membuat prediksi akhir.\n",
        "  - Model-model dasar dilatih secara bersamaan, dan hasilnya digunakan sebagai input untuk model meta."
      ]
    },
    {
      "cell_type": "markdown",
      "metadata": {
        "id": "Z3gDiKKwiaZx"
      },
      "source": [
        "### 3. Keuntungan Ensemble Learning\n",
        "- Meningkatkan akurasi model dengan mengurangi varians dan bias.\n",
        "- Meningkatkan stabilitas model terhadap data noise dan outlier.\n",
        "- Dapat menangani berbagai jenis data dan masalah, termasuk data yang tidak seimbang.\n",
        "- Mengurangi risiko overfitting dengan menggabungkan prediksi dari beberapa model yang berbeda."
      ]
    },
    {
      "cell_type": "markdown",
      "metadata": {
        "id": "EZ0jGcdwiaZx"
      },
      "source": [
        "### 4. Rumus untuk Prediksi Ensemble\n",
        "- Untuk metode voting (klasifikasi):\n",
        "  $$ \\hat{y} = \\text{argmax} \\sum_{i=1}^{N} h_i(x) $$\n",
        "  Di mana \\( h_i(x) \\) adalah prediksi dari model ke-i dan \\( N \\) adalah jumlah model.\n",
        "\n",
        "- Untuk regresi:\n",
        "  $$ \\hat{y} = \\frac{1}{N} \\sum_{i=1}^{N} h_i(x) $$\n",
        "  Di mana \\( h_i(x) \\) adalah prediksi dari model ke-i."
      ]
    },
    {
      "cell_type": "markdown",
      "metadata": {
        "id": "tlJo_dSMiaZx"
      },
      "source": [
        "### 5. Contoh Penggunaan Ensemble Learning\n",
        "- Dalam kompetisi data science, seperti Kaggle, banyak peserta menggunakan teknik ensemble untuk meningkatkan akurasi model mereka.\n",
        "- Metode ini sering kali menghasilkan model yang lebih kuat dan lebih andal dibandingkan dengan model tunggal."
      ]
    },
    {
      "cell_type": "code",
      "execution_count": null,
      "metadata": {
        "id": "UnPEIKk3iaZy"
      },
      "outputs": [],
      "source": [
        "# Contoh Kode untuk Random Forest\n",
        "from sklearn.ensemble import RandomForestClassifier\n",
        "from sklearn.datasets import load_iris\n",
        "from sklearn.model_selection import train_test_split\n",
        "from sklearn.metrics import accuracy_score\n",
        "\n",
        "# Memuat dataset\n",
        "iris = load_iris()\n",
        "X = iris.data\n",
        "y = iris.target\n",
        "\n",
        "# Membagi data menjadi data latih dan data uji\n",
        "X_train, X_test, y_train, y_test = train_test_split(X, y, test_size=0.2, random_state=42)\n",
        "\n",
        "# Membuat model Random Forest\n",
        "rf_clf = RandomForestClassifier(n_estimators=100, random_state=42)\n",
        "rf_clf.fit(X_train, y_train)\n",
        "\n",
        "# Melakukan prediksi\n",
        "y_pred = rf_clf.predict(X_test)\n",
        "\n",
        "# Menghitung akurasi\n",
        "accuracy = accuracy_score(y_test, y_pred)\n",
        "print(f\"Akurasi Random Forest: {accuracy:.2f}\")"
      ]
    },
    {
      "cell_type": "code",
      "execution_count": null,
      "metadata": {
        "id": "MyPRkoJoiaZy"
      },
      "outputs": [],
      "source": [
        "# Contoh Kode untuk AdaBoost\n",
        "from sklearn.ensemble import AdaBoostClassifier\n",
        "from sklearn.tree import DecisionTreeClassifier\n",
        "\n",
        "# Membuat model AdaBoost\n",
        "ada_clf = AdaBoostClassifier(\n",
        "    base_estimator=DecisionTreeClassifier(max_depth=1),\n",
        "    n_estimators=50,\n",
        "    random_state=42\n",
        ")\n",
        "ada_clf.fit(X_train, y_train)\n",
        "\n",
        "# Melakukan prediksi\n",
        "y_pred_ada = ada_clf.predict(X_test)\n",
        "\n",
        "# Menghitung akurasi\n",
        "accuracy_ada = accuracy_score(y_test, y_pred_ada)\n",
        "print(f\"Akurasi AdaBoost: {accuracy_ada:.2f}\")"
      ]
    },
    {
      "cell_type": "markdown",
      "metadata": {
        "id": "QnTM9uoAiaZy"
      },
      "source": [
        "### 6. Catatan Penting\n",
        "- **Keunggulan**: Ensemble Learning dapat meningkatkan akurasi model secara signifikan dan mengurangi risiko overfitting. Dengan menggabungkan beberapa model, kita dapat memanfaatkan kekuatan masing-masing model untuk menghasilkan prediksi yang lebih baik.\n",
        "- **Kelemahan**: Model ensemble bisa lebih kompleks dan memerlukan lebih banyak waktu untuk pelatihan dibandingkan model tunggal. Selain itu, interpretasi model ensemble bisa lebih sulit dibandingkan dengan model tunggal.\n",
        "- **Penggunaan**: Sangat berguna dalam kompetisi data science dan aplikasi dunia nyata di mana akurasi tinggi sangat penting. Banyak algoritma ensemble yang telah terbukti efektif dalam berbagai jenis masalah, termasuk klasifikasi gambar, analisis teks, dan prediksi waktu.\n",
        "- **Tips**: Saat menggunakan ensemble learning, penting untuk memilih model dasar yang beragam untuk mendapatkan hasil yang optimal. Kombinasi model yang berbeda dapat memberikan hasil yang lebih baik dibandingkan dengan menggunakan model yang sama."
      ]
    }
  ],
  "metadata": {
    "kernelspec": {
      "display_name": "Python 3",
      "language": "python",
      "name": "python3"
    },
    "language_info": {
      "codemirror_mode": {
        "name": "ipython",
        "version": 3
      },
      "file_extension": ".py",
      "mimetype": "text/x-python",
      "name": "python",
      "nbconvert_exporter": "python",
      "pygments_lexer": "ipython3",
      "version": "3.8.5"
    },
    "colab": {
      "provenance": [],
      "include_colab_link": true
    }
  },
  "nbformat": 4,
  "nbformat_minor": 0
}