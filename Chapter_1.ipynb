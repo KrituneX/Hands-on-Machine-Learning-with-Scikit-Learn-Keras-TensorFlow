{
  "cells": [
    {
      "cell_type": "markdown",
      "metadata": {
        "id": "view-in-github",
        "colab_type": "text"
      },
      "source": [
        "<a href=\"https://colab.research.google.com/github/KrituneX/Hands-on-Machine-Learning-with-Scikit-Learn-Keras-TensorFlow/blob/main/Chapter_1.ipynb\" target=\"_parent\"><img src=\"https://colab.research.google.com/assets/colab-badge.svg\" alt=\"Open In Colab\"/></a>"
      ]
    },
    {
      "cell_type": "markdown",
      "id": "45949728",
      "metadata": {
        "id": "45949728"
      },
      "source": [
        "# **CHAPTER 1: Lanskap Pembelajaran Mesin**\n",
        "Ringkasan berdasarkan *Hands-On Machine Learning with Scikit-Learn, Keras, and TensorFlow* oleh Aurélien Géron."
      ]
    },
    {
      "cell_type": "markdown",
      "id": "d49fdcad",
      "metadata": {
        "id": "d49fdcad"
      },
      "source": [
        "### 1. Apa itu Pembelajaran Mesin?\n",
        "- Definisi oleh Arthur Samuel (1959): *field of study that gives computers the ability to learn without being explicitly programmed*.\n",
        "- Definisi oleh Tom Mitchell (1997): *A computer program is said to learn from experience E with respect to some task T and some performance measure P, if its performance on T, as measured by P, improves with experience E.*"
      ]
    },
    {
      "cell_type": "markdown",
      "id": "9d075ab6",
      "metadata": {
        "id": "9d075ab6"
      },
      "source": [
        "### 2. Mengapa Menggunakan Pembelajaran Mesin?\n",
        "- Sulit membuat aturan eksplisit (misal: filter spam).\n",
        "- Adaptif terhadap data dan perubahan tren.\n",
        "- Cocok untuk masalah kompleks (misalnya: pengenalan suara, penglihatan komputer).\n",
        "- Membantu dalam menemukan pola tersembunyi (data mining)."
      ]
    },
    {
      "cell_type": "markdown",
      "id": "fd982461",
      "metadata": {
        "id": "fd982461"
      },
      "source": [
        "### 3. Contoh Aplikasi\n",
        "- Klasifikasi gambar produk\n",
        "- Deteksi tumor dalam scan otak\n",
        "- Klasifikasi teks dan komentar ofensif\n",
        "- Peramalan pendapatan\n",
        "- Rekomendasi produk\n",
        "- Sistem obrolan dan asisten virtual\n",
        "- Anomali dan segmentasi pelanggan"
      ]
    },
    {
      "cell_type": "markdown",
      "id": "2a4cc209",
      "metadata": {
        "id": "2a4cc209"
      },
      "source": [
        "### 4. Jenis Sistem Pembelajaran Mesin\n",
        "#### a. Berdasarkan Supervisi:\n",
        "- **Supervised Learning**: dilatih dengan label (misal: regresi linier, klasifikasi).\n",
        "- **Unsupervised Learning**: tidak menggunakan label (misal: clustering, PCA).\n",
        "- **Semi-Supervised**: campuran label dan tidak berlabel (contoh: Google Photos clustering).\n",
        "- **Reinforcement Learning**: belajar dari umpan balik (reward dan penalty).\n",
        "\n",
        "#### b. Berdasarkan Pembaruan Data:\n",
        "- **Batch Learning**: model dilatih secara penuh, lalu diterapkan.\n",
        "- **Online Learning**: model diperbarui secara bertahap (streaming data).\n",
        "\n",
        "#### c. Berdasarkan Metode Belajar:\n",
        "- **Instance-Based**: membandingkan instance baru dengan instance lama.\n",
        "- **Model-Based**: membuat generalisasi model dari data."
      ]
    },
    {
      "cell_type": "markdown",
      "id": "b9ea79fa",
      "metadata": {
        "id": "b9ea79fa"
      },
      "source": [
        "### 5. Tantangan Utama dalam Pembelajaran Mesin\n",
        "- Data pelatihan tidak cukup\n",
        "- Data tidak representatif\n",
        "- Kualitas data buruk atau tidak relevan\n",
        "- Overfitting vs Underfitting\n",
        "- Validasi dan pengujian model\n",
        "- Tuning hyperparameter dan pemilihan model\n",
        "- Data mismatch (perbedaan distribusi pelatihan dan produksi)"
      ]
    },
    {
      "cell_type": "markdown",
      "id": "08ae3ae4",
      "metadata": {
        "id": "08ae3ae4"
      },
      "source": [
        "### 📌 Kesimpulan\n",
        "Bab ini memberikan fondasi penting dalam memahami jenis, tantangan, dan alasan menggunakan pembelajaran mesin sebelum melangkah ke implementasi teknis."
      ]
    }
  ],
  "metadata": {
    "colab": {
      "provenance": [],
      "include_colab_link": true
    },
    "language_info": {
      "name": "python"
    },
    "kernelspec": {
      "name": "python3",
      "display_name": "Python 3"
    }
  },
  "nbformat": 4,
  "nbformat_minor": 5
}