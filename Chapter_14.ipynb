{
  "cells": [
    {
      "cell_type": "markdown",
      "metadata": {
        "id": "view-in-github",
        "colab_type": "text"
      },
      "source": [
        "<a href=\"https://colab.research.google.com/github/KrituneX/Hands-on-Machine-Learning-with-Scikit-Learn-Keras-TensorFlow/blob/main/Chapter_14.ipynb\" target=\"_parent\"><img src=\"https://colab.research.google.com/assets/colab-badge.svg\" alt=\"Open In Colab\"/></a>"
      ]
    },
    {
      "cell_type": "markdown",
      "metadata": {
        "id": "x3wUubmU88oU"
      },
      "source": [
        "# Ringkasan Chapter 14: Deep Computer Vision Using Convolutional Neural Networks\n",
        "## Hands-On Machine Learning with Scikit-Learn, Keras, and TensorFlow (2nd Ed.)"
      ]
    },
    {
      "cell_type": "markdown",
      "metadata": {
        "id": "7XCf37sT88oV"
      },
      "source": [
        "### 1. Arsitektur Jaringan Konvolusi\n",
        "Jaringan Konvolusi (CNN) dirancang khusus untuk memproses data berbentuk grid, seperti gambar. CNN menggunakan lapisan konvolusi untuk mengekstrak fitur dari gambar.\n",
        "\n",
        "**Rumus Konvolusi:**\n",
        "$$ (f * g)(x) = \\int f(t) g(x - t) dt $$\n",
        "\n",
        "    Dimana:\n",
        "$f$: Gambar input\n",
        "\n",
        "$g$: Filter (kernel)\n"
      ]
    },
    {
      "cell_type": "markdown",
      "metadata": {
        "id": "fYI49QLR88oW"
      },
      "source": [
        "### 2. Lapisan Konvolusi\n",
        "Lapisan konvolusi menerapkan filter untuk menghasilkan peta fitur. Setiap filter belajar mendeteksi pola tertentu dalam gambar.\n",
        "\n",
        "    **Output Peta Fitur:**\n",
        "$$ \\text{Output} = \\text{Activation}(\\text{Convolution}(f, g)) $$"
      ]
    },
    {
      "cell_type": "code",
      "execution_count": null,
      "metadata": {
        "id": "Q76SCksQ88oW"
      },
      "outputs": [],
      "source": [
        "import tensorflow as tf\n",
        "from tensorflow import keras\n",
        "\n",
        "# Contoh model CNN\n",
        "model = keras.models.Sequential([\n",
        "    keras.layers.Conv2D(32, (3, 3), activation='relu', input_shape=(28, 28, 1)),\n",
        "    keras.layers.MaxPooling2D((2, 2)),\n",
        "    keras.layers.Conv2D(64, (3, 3), activation='relu'),\n",
        "    keras.layers.MaxPooling2D((2, 2)),\n",
        "    keras.layers.Flatten(),\n",
        "    keras.layers.Dense(64, activation='relu'),\n",
        "    keras.layers.Dense(10, activation='softmax')\n",
        "])"
      ]
    },
    {
      "cell_type": "markdown",
      "metadata": {
        "id": "t0YOvX2K88oX"
      },
      "source": [
        "### 3. Pooling Layer\n",
        "Pooling mengurangi dimensi peta fitur, mengurangi jumlah parameter dan komputasi dalam jaringan.\n",
        "\n",
        "    **Rumus Max Pooling:**\n",
        " $$ \\text{MaxPool}(f) = \\max(f) $$\n",
        "\n",
        "    **Contoh Implementasi:**"
      ]
    },
    {
      "cell_type": "code",
      "execution_count": null,
      "metadata": {
        "id": "dOQdjzCG88oX"
      },
      "outputs": [],
      "source": [
        "# Menambahkan lapisan pooling\n",
        "model.add(keras.layers.MaxPooling2D((2, 2)))"
      ]
    },
    {
      "cell_type": "markdown",
      "metadata": {
        "id": "EknBRAEt88oX"
      },
      "source": [
        "### 4. Fungsi Aktivasi\n",
        "Fungsi aktivasi yang umum digunakan dalam CNN adalah ReLU, yang membantu mengatasi masalah vanishing gradient.\n",
        "\n",
        "    **Rumus ReLU:**\n",
        "$$ f(x) = \\max(0, x) $$"
      ]
    },
    {
      "cell_type": "markdown",
      "metadata": {
        "id": "7182src588oX"
      },
      "source": [
        "### 5. Regularisasi dalam CNN\n",
        "Untuk mencegah overfitting, teknik regularisasi seperti Dropout dapat diterapkan.\n",
        "\n",
        "    **Rumus Dropout:**\n",
        "$$ y = \\text{Dropout}(x, p) $$\n",
        "Dimana $p$ adalah proporsi neuron yang dinonaktifkan."
      ]
    },
    {
      "cell_type": "code",
      "execution_count": null,
      "metadata": {
        "id": "ffRskjd_88oX"
      },
      "outputs": [],
      "source": [
        "# Menambahkan Dropout\n",
        "model.add(keras.layers.Dropout(0.5))"
      ]
    },
    {
      "cell_type": "markdown",
      "metadata": {
        "id": "JFDgjvHk88oX"
      },
      "source": [
        "### 6. Menggunakan Model CNN untuk Klasifikasi\n",
        "Setelah model dibangun, kita dapat melatihnya menggunakan dataset seperti MNIST.\n",
        "\n",
        "    **Contoh Pelatihan Model:**"
      ]
    },
    {
      "cell_type": "code",
      "execution_count": null,
      "metadata": {
        "id": "rIEgTaSh88oX"
      },
      "outputs": [],
      "source": [
        "# Mengompilasi dan melatih model\n",
        "model.compile(optimizer='adam', loss='sparse_categorical_crossentropy', metrics=['accuracy'])\n",
        "# X_train dan y_train adalah data pelatihan\n",
        "# model.fit(X_train, y_train, epochs=5)"
      ]
    },
    {
      "cell_type": "markdown",
      "metadata": {
        "id": "fAdRAAy788oX"
      },
      "source": [
        "### 7. Evaluasi Model\n",
        "Setelah pelatihan, model dapat dievaluasi menggunakan data uji untuk mengukur akurasi dan performa.\n",
        "\n",
        "    **Rumus Akurasi:**\n",
        "$$ \\text{Accuracy} = \\frac{TP + TN}{TP + TN + FP + FN} $$"
      ]
    },
    {
      "cell_type": "code",
      "execution_count": null,
      "metadata": {
        "id": "NyftVqVH88oX"
      },
      "outputs": [],
      "source": [
        "# Evaluasi model\n",
        "# test_loss, test_acc = model.evaluate(X_test, y_test)\n",
        "# print('Test accuracy:', test_acc)"
      ]
    }
  ],
  "metadata": {
    "kernelspec": {
      "display_name": "Python 3",
      "language": "python",
      "name": "python3"
    },
    "language_info": {
      "codemirror_mode": {
        "name": "ipython",
        "version": 3
      },
      "file_extension": ".py",
      "mimetype": "text/x-python",
      "name": "python",
      "nbconvert_exporter": "python",
      "pygments_lexer": "ipython3",
      "version": "3.8.5"
    },
    "colab": {
      "provenance": [],
      "include_colab_link": true
    }
  },
  "nbformat": 4,
  "nbformat_minor": 0
}