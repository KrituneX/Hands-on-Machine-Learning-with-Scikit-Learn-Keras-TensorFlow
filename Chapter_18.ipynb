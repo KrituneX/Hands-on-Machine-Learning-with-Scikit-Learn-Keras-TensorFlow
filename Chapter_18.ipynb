{
  "cells": [
    {
      "cell_type": "markdown",
      "metadata": {
        "id": "view-in-github",
        "colab_type": "text"
      },
      "source": [
        "<a href=\"https://colab.research.google.com/github/KrituneX/Hands-on-Machine-Learning-with-Scikit-Learn-Keras-TensorFlow/blob/main/Chapter_18.ipynb\" target=\"_parent\"><img src=\"https://colab.research.google.com/assets/colab-badge.svg\" alt=\"Open In Colab\"/></a>"
      ]
    },
    {
      "cell_type": "markdown",
      "metadata": {
        "id": "mz6MtYyl_6m0"
      },
      "source": [
        "# Ringkasan Chapter 18: Advanced Topics in Machine Learning\n",
        "## Hands-On Machine Learning with Scikit-Learn, Keras, and TensorFlow (2nd Ed.)"
      ]
    },
    {
      "cell_type": "markdown",
      "metadata": {
        "id": "6AV6_8L0_6m1"
      },
      "source": [
        "### 1. Pembelajaran Transfer\n",
        "Pembelajaran transfer adalah teknik di mana model yang dilatih pada satu tugas digunakan untuk meningkatkan pembelajaran pada tugas lain. Ini sangat berguna ketika data untuk tugas baru terbatas.\n",
        "\n",
        "**Contoh:** Menggunakan model yang dilatih pada dataset besar untuk pengenalan gambar dan menerapkannya pada dataset yang lebih kecil."
      ]
    },
    {
      "cell_type": "markdown",
      "metadata": {
        "id": "wg95-xvw_6m2"
      },
      "source": [
        "### 2. Pembelajaran Reinforcement\n",
        "Pembelajaran reinforcement adalah pendekatan di mana agen belajar untuk membuat keputusan dengan mencoba berbagai tindakan dan menerima umpan balik dalam bentuk reward atau punishment.\n",
        "\n",
        "**Rumus Reward:**\n",
        "  $$ R = f(a, s) $$\n",
        "    Di mana:\n",
        "  - $R$: Reward yang diterima\n",
        "  - $a$: Aksi yang diambil\n",
        "  - $s$: Status saat ini"
      ]
    },
    {
      "cell_type": "markdown",
      "metadata": {
        "id": "ZT76FFad_6m2"
      },
      "source": [
        "### 3. Model Generatif\n",
        "Model generatif adalah model yang dapat menghasilkan data baru yang mirip dengan data pelatihan. Contoh termasuk GANs dan Variational Autoencoders (VAEs).\n",
        "\n",
        "**Rumus VAE:**\n",
        "  $$ p(x|z) = \\mathcal{N}(x; \\mu(z), \\sigma^2(z)) $$\n",
        "    Di mana:\n",
        "  - $x$: Data yang dihasilkan\n",
        "  - $z$: Variabel laten"
      ]
    },
    {
      "cell_type": "markdown",
      "metadata": {
        "id": "V08o1MXQ_6m2"
      },
      "source": [
        "### 4. Hyperparameter Tuning\n",
        "Tuning hyperparameter adalah proses mencari kombinasi terbaik dari hyperparameter untuk meningkatkan kinerja model. Ini dapat dilakukan dengan teknik seperti Grid Search dan Random Search.\n",
        "\n",
        "**Contoh Grid Search:**\n",
        "    - Mencoba berbagai kombinasi nilai untuk hyperparameter dan mengevaluasi kinerja model pada setiap kombinasi."
      ]
    },
    {
      "cell_type": "markdown",
      "metadata": {
        "id": "NCp29KEo_6m2"
      },
      "source": [
        "### 5. Kesimpulan\n",
        "Chapter ini membahas berbagai topik lanjutan dalam pembelajaran mesin, termasuk pembelajaran transfer, reinforcement, model generatif, dan tuning hyperparameter. Memahami konsep-konsep ini penting untuk mengembangkan model yang lebih efektif."
      ]
    }
  ],
  "metadata": {
    "kernelspec": {
      "display_name": "Python 3",
      "language": "python",
      "name": "python3"
    },
    "language_info": {
      "codemirror_mode": {
        "name": "ipython",
        "version": 3
      },
      "file_extension": ".py",
      "mimetype": "text/x-python",
      "name": "python",
      "nbconvert_exporter": "python",
      "pygments_lexer": "ipython3",
      "version": "3.8.5"
    },
    "colab": {
      "provenance": [],
      "include_colab_link": true
    }
  },
  "nbformat": 4,
  "nbformat_minor": 0
}