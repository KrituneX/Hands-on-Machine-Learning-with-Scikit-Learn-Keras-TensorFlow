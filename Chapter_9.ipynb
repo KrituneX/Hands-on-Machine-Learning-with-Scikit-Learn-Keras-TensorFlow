{
  "cells": [
    {
      "cell_type": "markdown",
      "metadata": {
        "id": "view-in-github",
        "colab_type": "text"
      },
      "source": [
        "<a href=\"https://colab.research.google.com/github/KrituneX/Hands-on-Machine-Learning-with-Scikit-Learn-Keras-TensorFlow/blob/main/Chapter_9.ipynb\" target=\"_parent\"><img src=\"https://colab.research.google.com/assets/colab-badge.svg\" alt=\"Open In Colab\"/></a>"
      ]
    },
    {
      "cell_type": "markdown",
      "metadata": {
        "id": "DjmXStd1oMMi"
      },
      "source": [
        "# Chapter 9: Unsupervised Learning Techniques\n",
        "## Hands-On Machine Learning with Scikit-Learn, Keras and TensorFlow"
      ]
    },
    {
      "cell_type": "markdown",
      "metadata": {
        "id": "ZyLwZ_HEoMMj"
      },
      "source": [
        "## 1. Konsep Dasar Unsupervised Learning\n",
        "Unsupervised learning adalah pendekatan machine learning dimana model belajar pola dari data tanpa label/target. Terdapat dua teknik utama:\n",
        "\n",
        "**a. Clustering**\n",
        "- Mengelompokkan data points yang serupa ke dalam cluster\n",
        "- Contoh algoritma: K-Means, DBSCAN, Hierarchical Clustering\n",
        "\n",
        "**b. Dimensionality Reduction**\n",
        "- Mereduksi jumlah variabel/fitur dengan mempertahankan informasi penting\n",
        "- Contoh: PCA (Chapter 8), t-SNE, Autoencoders\n",
        "\n",
        "**Perbedaan Fundamental**\n",
        "- Supervised learning: Memprediksi label/target (classification/regression)\n",
        "- Unsupervised learning: Menemukan pola tersembunyi (clustering/dimensionality reduction)"
      ]
    },
    {
      "cell_type": "markdown",
      "metadata": {
        "id": "ZYJ2a91ioMMj"
      },
      "source": [
        "## 2. K-Means Clustering (Teori Mendalam)\n",
        "Algoritma partisi data ke dalam K cluster dengan meminimalkan variance intra-cluster\n",
        "\n",
        "**Mathematical Formulation**\n",
        "Objective function (Inertia):\n",
        "$$ J = \\sum_{i=1}^n \\sum_{j=1}^k w_{ij} ||x_i - \\mu_j||^2 $$\n",
        "Dimana:\n",
        "- $w_{ij} = 1$ jika $x_i$ termasuk cluster $j$, 0 untuk lainnya\n",
        "- $\\mu_j$ adalah centroid cluster $j$\n",
        "\n",
        "**Proses Iteratif**:\n",
        "1. Tentukan jumlah cluster (K)\n",
        "2. Inisialisasi centroid secara acak\n",
        "3. Hitung jarak tiap data point ke centroid (Euclidean distance)\n",
        "4. Assign data points ke cluster terdekat\n",
        "5. Update centroid sebagai rata-rata semua points dalam cluster\n",
        "6. Ulangi langkah 3-5 sampai konvergen (centroid stabil)\n",
        "\n",
        "**Keuntungan**:\n",
        "- Efisien secara komputasi (O(n))\n",
        "- Mudah diimplementasikan\n",
        "\n",
        "**Keterbatasan**:\n",
        "- Harus menentukan K sebelumnya\n",
        "- Sensitif terhadap inisialisasi centroid\n",
        "- Kerja buruk untuk cluster non-spherical/bervariasi ukuran"
      ]
    },
    {
      "cell_type": "markdown",
      "metadata": {
        "id": "QzFtpLreoMMj"
      },
      "source": [
        "## 3. Hands-On: K-Means Implementation\n",
        "### 3.1 Basic Implementation dengan Scikit-Learn"
      ]
    },
    {
      "cell_type": "code",
      "execution_count": null,
      "metadata": {
        "id": "xH5zNcWYoMMk"
      },
      "outputs": [],
      "source": [
        "from sklearn.cluster import KMeans\n",
        "from sklearn.datasets import make_blobs\n",
        "import matplotlib.pyplot as plt\n",
        "import numpy as np\n",
        "\n",
        "# Generate sample data\n",
        "X, y = make_blobs(n_samples=500, centers=4, cluster_std=0.8, random_state=42)\n",
        "\n",
        "# Visualize raw data\n",
        "plt.figure(figsize=(8,6))\n",
        "plt.scatter(X[:,0], X[:,1], s=50)\n",
        "plt.title('Original Data')\n",
        "plt.xlabel('Feature 1')\n",
        "plt.ylabel('Feature 2')\n",
        "plt.show()\n",
        "\n",
        "# Apply K-Means\n",
        "kmeans = KMeans(n_clusters=4, random_state=42)\n",
        "kmeans.fit(X)\n",
        "labels = kmeans.labels_\n",
        "centroids = kmeans.cluster_centers_\n",
        "\n",
        "# Visualize clustered data\n",
        "plt.figure(figsize=(8,6))\n",
        "plt.scatter(X[:,0], X[:,1], c=labels, s=50, cmap='viridis')\n",
        "plt.scatter(centroids[:,0], centroids[:,1], c='red', s=200, alpha=0.8, marker='X')\n",
        "plt.title('K-Means Clustering Results')\n",
        "plt.xlabel('Feature 1')\n",
        "plt.ylabel('Feature 2')\n",
        "plt.show()"
      ]
    },
    {
      "cell_type": "markdown",
      "metadata": {
        "id": "vccUsb0XoMMk"
      },
      "source": [
        "### 3.2 Menentukan Jumlah Cluster Optimal (Elbow Method)"
      ]
    },
    {
      "cell_type": "code",
      "execution_count": null,
      "metadata": {
        "id": "py6VEKbgoMMk"
      },
      "outputs": [],
      "source": [
        "inertia = []\n",
        "k_range = range(1,10)\n",
        "\n",
        "for k in k_range:\n",
        "    model = KMeans(n_clusters=k, random_state=42)\n",
        "    model.fit(X)\n",
        "    inertia.append(model.inertia_)\n",
        "\n",
        "# Plot elbow curve\n",
        "plt.figure(figsize=(8,5))\n",
        "plt.plot(k_range, inertia, marker='o')\n",
        "plt.title('Elbow Method for Optimal K')\n",
        "plt.xlabel('Number of Clusters (K)')\n",
        "plt.ylabel('Inertia')\n",
        "plt.xticks(k_range)\n",
        "plt.grid()\n",
        "plt.show()"
      ]
    },
    {
      "cell_type": "markdown",
      "metadata": {
        "id": "4alpHxF6oMMk"
      },
      "source": [
        "## 4. DBSCAN Clustering (Teori Lengkap)\n",
        "Density-Based Spatial Clustering of Applications with Noise (DBSCAN) bekerja berdasarkan density connectivity\n",
        "\n",
        "**Konsep Kunci**:\n",
        "- **Core point**: Memiliki min_samples dalam radius eps\n",
        "- **Border point**: Dalam radius core point tapi bukan core\n",
        "- **Noise point**: Bukan core atau border\n",
        "\n",
        "**Parameter**:\n",
        "- eps: Jarak maksimum antara dua samples\n",
        "- min_samples: Jumlah minimum samples dalam radius eps\n",
        "\n",
        "**Algoritma**:\n",
        "1. Pilih titik acak yang belum dikunjungi\n",
        "2. Temukan semua titik yang terkoneksi secara density (core points)\n",
        "3. Jika titik adalah core, bentuk cluster\n",
        "4. Jika noise, tandai sebagai outlier\n",
        "5. Ulangi sampai semua titik diproses"
      ]
    },
    {
      "cell_type": "markdown",
      "metadata": {
        "id": "Cq-D77EAoMMl"
      },
      "source": [
        "## 5. Hands-On: DBSCAN Implementation"
      ]
    },
    {
      "cell_type": "code",
      "execution_count": null,
      "metadata": {
        "id": "TRR2BH7foMMl"
      },
      "outputs": [],
      "source": [
        "from sklearn.cluster import DBSCAN\n",
        "from sklearn.datasets import make_moons\n",
        "\n",
        "# Generate non-linear cluster data\n",
        "X_moons, _ = make_moons(n_samples=300, noise=0.07, random_state=42)\n",
        "\n",
        "# Apply DBSCAN\n",
        "dbscan = DBSCAN(eps=0.2, min_samples=5)\n",
        "clusters = dbscan.fit_predict(X_moons)\n",
        "\n",
        "# Visualize results\n",
        "plt.figure(figsize=(8,6))\n",
        "plt.scatter(X_moons[:,0], X_moons[:,1], c=clusters, s=50, cmap='viridis')\n",
        "plt.title('DBSCAN Clustering Results')\n",
        "plt.xlabel('Feature 1')\n",
        "plt.ylabel('Feature 2')\n",
        "plt.show()"
      ]
    },
    {
      "cell_type": "markdown",
      "metadata": {
        "id": "HX8SexJDoMMl"
      },
      "source": [
        "## 6. Gaussian Mixture Models (GMM)\n",
        "Pendekatan probabilistic dimana data dimodelkan sebagai campuran distribusi Gaussian\n",
        "\n",
        "**Mathematical Foundations**:\n",
        "$$ p(x) = \\sum_{k=1}^K \\pi_k \\mathcal{N}(x|\\mu_k, \\Sigma_k) $$\n",
        "Dimana:\n",
        "- $\\pi_k$: Mixing coefficient (bobot komponen ke-k)\n",
        "- $\\mathcal{N}$: Distribusi normal multivariate\n",
        "- $\\mu_k, \\Sigma_k$: Mean dan covariance matrix\n",
        "\n",
        "**Estimasi Parameter menggunakan EM Algorithm**:\n",
        "1. **E-step**: Hitung responsibility tiap komponen\n",
        "2. **M-step**: Update parameter model"
      ]
    },
    {
      "cell_type": "markdown",
      "metadata": {
        "id": "AeplG_RWoMMl"
      },
      "source": [
        "## 7. Aplikasi Real-World: Customer Segmentation"
      ]
    },
    {
      "cell_type": "code",
      "execution_count": null,
      "metadata": {
        "id": "yiFd8E8doMMl"
      },
      "outputs": [],
      "source": [
        "import pandas as pd\n",
        "from sklearn.preprocessing import StandardScaler\n",
        "\n",
        "# Load dataset (contoh: data pelanggan e-commerce)\n",
        "data = pd.read_csv('customer_data.csv')\n",
        "features = data[['Annual_Income', 'Spending_Score', 'Age']]\n",
        "\n",
        "# Preprocessing\n",
        "scaler = StandardScaler()\n",
        "scaled_features = scaler.fit_transform(features)\n",
        "\n",
        "# Clustering\n",
        "kmeans = KMeans(n_clusters=5, random_state=42)\n",
        "clusters = kmeans.fit_predict(scaled_features)\n",
        "\n",
        "# Analysis results\n",
        "data['Cluster'] = clusters\n",
        "cluster_stats = data.groupby('Cluster').mean()\n",
        "\n",
        "# Visualize 3D clusters\n",
        "from mpl_toolkits.mplot3d import Axes3D\n",
        "\n",
        "fig = plt.figure(figsize=(12,8))\n",
        "ax = fig.add_subplot(111, projection='3d')\n",
        "scatter = ax.scatter(data['Annual_Income'],\n",
        "                    data['Spending_Score'],\n",
        "                    data['Age'],\n",
        "                    c=data['Cluster'],\n",
        "                    cmap='viridis',\n",
        "                    s=60)\n",
        "ax.set_xlabel('Annual Income')\n",
        "ax.set_ylabel('Spending Score')\n",
        "ax.set_zlabel('Age')\n",
        "plt.title('3D Customer Segmentation')\n",
        "plt.colorbar(scatter)\n",
        "plt.show()"
      ]
    }
  ],
  "metadata": {
    "kernelspec": {
      "display_name": "Python 3",
      "language": "python",
      "name": "python3"
    },
    "language_info": {
      "codemirror_mode": {
        "name": "ipython",
        "version": 3
      },
      "file_extension": ".py",
      "mimetype": "text/x-python",
      "name": "python",
      "nbconvert_exporter": "python",
      "pygments_lexer": "ipython3",
      "version": "3.8.5"
    },
    "colab": {
      "provenance": [],
      "include_colab_link": true
    }
  },
  "nbformat": 4,
  "nbformat_minor": 0
}