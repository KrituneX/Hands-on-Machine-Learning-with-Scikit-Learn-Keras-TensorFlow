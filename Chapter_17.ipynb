{
  "cells": [
    {
      "cell_type": "markdown",
      "metadata": {
        "id": "view-in-github",
        "colab_type": "text"
      },
      "source": [
        "<a href=\"https://colab.research.google.com/github/KrituneX/Hands-on-Machine-Learning-with-Scikit-Learn-Keras-TensorFlow/blob/main/Chapter_17.ipynb\" target=\"_parent\"><img src=\"https://colab.research.google.com/assets/colab-badge.svg\" alt=\"Open In Colab\"/></a>"
      ]
    },
    {
      "cell_type": "markdown",
      "metadata": {
        "id": "VoooS3GX_UnH"
      },
      "source": [
        "# Ringkasan Chapter 17: Representation Learning and Generative Learning Using Autoencoders and GANs\n",
        "## Hands-On Machine Learning with Scikit-Learn, Keras, and TensorFlow (2nd Ed.)"
      ]
    },
    {
      "cell_type": "markdown",
      "metadata": {
        "id": "jzDeaAEk_UnI"
      },
      "source": [
        "### 1. Pembelajaran Representasi\n",
        "Pembelajaran representasi adalah teknik untuk mengubah data mentah menjadi representasi yang lebih berguna untuk tugas pembelajaran mesin. Ini sering dilakukan dengan menggunakan autoencoder.\n",
        "\n",
        "**Rumus Autoencoder:**\n",
        "$$ x' = f(g(x)) $$\n",
        "Di mana:\n",
        "    - $x'$: Data yang direkonstruksi\n",
        "    - $g(x)$: Encoder\n",
        "    - $f$: Decoder"
      ]
    },
    {
      "cell_type": "markdown",
      "metadata": {
        "id": "_rzLzEI-_UnI"
      },
      "source": [
        "### 2. Autoencoders\n",
        "Autoencoders adalah jaringan saraf yang dilatih untuk merekonstruksi inputnya. Mereka terdiri dari dua bagian: encoder dan decoder.\n",
        "\n",
        "    **Rumus Loss Function:**\n",
        "  $$ L(x, x') = ||x - x'||^2 $$\n",
        "Di mana $L$ adalah fungsi loss yang mengukur perbedaan antara input dan output."
      ]
    },
    {
      "cell_type": "code",
      "execution_count": null,
      "metadata": {
        "id": "NsljYhZY_UnJ"
      },
      "outputs": [],
      "source": [
        "from tensorflow import keras\n",
        "from tensorflow.keras import layers\n",
        "\n",
        "# Membangun model Autoencoder\n",
        "input_img = keras.Input(shape=(784,))\n",
        "encoded = layers.Dense(64, activation='relu')(input_img)\n",
        "decoded = layers.Dense(784, activation='sigmoid')(encoded)\n",
        "\n",
        "autoencoder = keras.Model(input_img, decoded)\n",
        "autoencoder.compile(optimizer='adam', loss='binary_crossentropy')"
      ]
    },
    {
      "cell_type": "markdown",
      "metadata": {
        "id": "4-UPUnlP_UnJ"
      },
      "source": [
        "### 3. Generative Adversarial Networks (GANs)\n",
        "GANs adalah model generatif yang terdiri dari dua jaringan saraf: generator dan discriminator. Generator menghasilkan data baru, sementara discriminator membedakan antara data nyata dan data yang dihasilkan.\n",
        "\n",
        "    **Rumus GAN:**\n",
        "  $$ L = -E_{x \\sim p_{data}}[\\log(D(x))] - E_{z \\sim p_{z}}[\\log(1 - D(G(z)))] $$\n",
        "Di mana:\n",
        "  - $D(x)$: Probabilitas bahwa $x$ adalah data nyata\n",
        "  - $G(z)$: Data yang dihasilkan oleh generator"
      ]
    },
    {
      "cell_type": "code",
      "execution_count": null,
      "metadata": {
        "id": "m7FMBsug_UnJ"
      },
      "outputs": [],
      "source": [
        "# Membangun model GAN\n",
        "latent_dim = 100\n",
        "\n",
        "# Generator\n",
        "generator = keras.Sequential([\n",
        "    layers.Dense(256, activation='relu', input_dim=latent_dim),\n",
        "    layers.Dense(784, activation='sigmoid')\n",
        "])\n",
        "\n",
        "# Discriminator\n",
        "discriminator = keras.Sequential([\n",
        "    layers.Dense(256, activation='relu', input_dim=784),\n",
        "    layers.Dense(1, activation='sigmoid')\n",
        "])\n",
        "\n",
        "# Mengompilasi model\n",
        "discriminator.compile(optimizer='adam', loss='binary_crossentropy')"
      ]
    },
    {
      "cell_type": "markdown",
      "metadata": {
        "id": "o52QAGKd_UnK"
      },
      "source": [
        "### 4. Pelatihan GAN\n",
        "Pelatihan GAN melibatkan dua langkah: melatih discriminator dan melatih generator. Proses ini dilakukan secara bergantian.\n",
        "\n",
        "    **Langkah Pelatihan:**\n",
        "    1. Latih discriminator dengan data nyata dan data yang dihasilkan.\n",
        "    2. Latih generator untuk menghasilkan data yang lebih baik."
      ]
    },
    {
      "cell_type": "code",
      "execution_count": null,
      "metadata": {
        "id": "Z5Nw2K7q_UnK"
      },
      "outputs": [],
      "source": [
        "# Contoh pelatihan GAN\n",
        "import numpy as np\n",
        "\n",
        "for epoch in range(10000):\n",
        "    # Latih discriminator\n",
        "    real_data = np.random.rand(32, 784)  # Data nyata\n",
        "    noise = np.random.normal(0, 1, (32, latent_dim))  # Noise\n",
        "    generated_data = generator.predict(noise)  # Data yang dihasilkan\n",
        "    discriminator.train_on_batch(real_data, np.ones((32, 1)))  # Label 1 untuk data nyata\n",
        "    discriminator.train_on_batch(generated_data, np.zeros((32, 1)))  # Label 0 untuk data yang dihasilkan\n",
        "\n",
        "    # Latih generator\n",
        "    noise = np.random.normal(0, 1, (32, latent_dim))\n",
        "    gan_loss = discriminator.train_on_batch(generator.predict(noise), np.ones((32, 1)))  # Label 1 untuk data yang dihasilkan"
      ]
    },
    {
      "cell_type": "markdown",
      "metadata": {
        "id": "_uWUa_4Y_UnK"
      },
      "source": [
        "### 5. Kesimpulan\n",
        "Autoencoders dan GANs adalah alat yang kuat untuk pembelajaran representasi dan generasi data. Memilih arsitektur yang tepat tergantung pada jenis data dan tugas yang dihadapi."
      ]
    }
  ],
  "metadata": {
    "kernelspec": {
      "display_name": "Python 3",
      "language": "python",
      "name": "python3"
    },
    "language_info": {
      "codemirror_mode": {
        "name": "ipython",
        "version": 3
      },
      "file_extension": ".py",
      "mimetype": "text/x-python",
      "name": "python",
      "nbconvert_exporter": "python",
      "pygments_lexer": "ipython3",
      "version": "3.8.5"
    },
    "colab": {
      "provenance": [],
      "include_colab_link": true
    }
  },
  "nbformat": 4,
  "nbformat_minor": 0
}