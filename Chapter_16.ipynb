{
  "cells": [
    {
      "cell_type": "markdown",
      "metadata": {
        "id": "view-in-github",
        "colab_type": "text"
      },
      "source": [
        "<a href=\"https://colab.research.google.com/github/KrituneX/Hands-on-Machine-Learning-with-Scikit-Learn-Keras-TensorFlow/blob/main/Chapter_16.ipynb\" target=\"_parent\"><img src=\"https://colab.research.google.com/assets/colab-badge.svg\" alt=\"Open In Colab\"/></a>"
      ]
    },
    {
      "cell_type": "markdown",
      "metadata": {
        "id": "zGW36cYC-87C"
      },
      "source": [
        "# Ringkasan Chapter 16: Defuzzifikasi dalam Sistem Fuzzy\n",
        "## Teori dan Implementasi"
      ]
    },
    {
      "cell_type": "markdown",
      "metadata": {
        "id": "qWVwKWZo-87D"
      },
      "source": [
        "### 1. Pengantar Defuzzifikasi\n",
        "Defuzzifikasi adalah proses mengubah output fuzzy menjadi nilai crisp. Ini adalah langkah penting dalam sistem logika fuzzy, di mana keputusan akhir diambil berdasarkan nilai fuzzy yang dihasilkan."
      ]
    },
    {
      "cell_type": "markdown",
      "metadata": {
        "id": "okWEzHM_-87D"
      },
      "source": [
        "### 2. Metode Defuzzifikasi\n",
        "Ada beberapa metode defuzzifikasi yang umum digunakan, antara lain:\n",
        "- **Centroid**: Menghitung titik pusat area di bawah kurva fuzzy.\n",
        "- **Bisector**: Menghitung nilai yang membagi area fuzzy menjadi dua bagian yang sama.\n",
        "- **Mean of Maximum (MOM)**: Mengambil rata-rata dari nilai maksimum fuzzy."
      ]
    },
    {
      "cell_type": "markdown",
      "metadata": {
        "id": "ODrOaykj-87D"
      },
      "source": [
        "### 3. Rumus Defuzzifikasi\n",
        "#### 3.1. Centroid\n",
        "Rumus untuk menghitung centroid adalah:\n",
        "$$ z^* = \\frac{\\int z \\cdot \\mu(z) dz}{\\int \\mu(z) dz} $$\n",
        "Di mana:\n",
        "  - $z^*$: Nilai crisp hasil defuzzifikasi\n",
        "  - $\\mu(z)$: Fungsi keanggotaan fuzzy\n"
      ]
    },
    {
      "cell_type": "markdown",
      "metadata": {
        "id": "GPVeQ9sQ-87E"
      },
      "source": [
        "#### 3.2. Bisector\n",
        "Rumus untuk menghitung bisector adalah:\n",
        "$$ z^* = z_{min} + \\frac{1}{2} \\cdot (z_{max} - z_{min}) $$\n",
        "Di mana:\n",
        "  - $z_{min}$ dan $z_{max}$ adalah batas bawah dan atas dari area fuzzy."
      ]
    },
    {
      "cell_type": "markdown",
      "metadata": {
        "id": "EGx5Ikpk-87E"
      },
      "source": [
        "#### 3.3. Mean of Maximum (MOM)\n",
        "Rumus untuk MOM adalah:\n",
        "$$ z^* = \\frac{1}{n} \\sum_{i=1}^{n} z_i $$\n",
        "Di mana:\n",
        "  - $z_i$ adalah nilai-nilai maksimum dari fungsi keanggotaan fuzzy."
      ]
    },
    {
      "cell_type": "markdown",
      "metadata": {
        "id": "pEZmCaev-87E"
      },
      "source": [
        "### 4. Implementasi Defuzzifikasi\n",
        "Defuzzifikasi dapat diimplementasikan dalam berbagai bahasa pemrograman. Berikut adalah langkah-langkah umum untuk menerapkan metode centroid:\n",
        "1. Tentukan fungsi keanggotaan fuzzy.\n",
        "2. Hitung area di bawah kurva fuzzy.\n",
        "3. Terapkan rumus centroid untuk mendapatkan nilai crisp."
      ]
    },
    {
      "cell_type": "markdown",
      "metadata": {
        "id": "bmvlhSVh-87E"
      },
      "source": [
        "### 5. Kesimpulan\n",
        "Defuzzifikasi adalah langkah krusial dalam sistem fuzzy yang mengubah output fuzzy menjadi keputusan yang dapat diambil. Memilih metode defuzzifikasi yang tepat sangat penting untuk akurasi hasil."
      ]
    }
  ],
  "metadata": {
    "kernelspec": {
      "display_name": "Python 3",
      "language": "python",
      "name": "python3"
    },
    "language_info": {
      "codemirror_mode": {
        "name": "ipython",
        "version": 3
      },
      "file_extension": ".py",
      "mimetype": "text/x-python",
      "name": "python",
      "nbconvert_exporter": "python",
      "pygments_lexer": "ipython3",
      "version": "3.8.5"
    },
    "colab": {
      "provenance": [],
      "include_colab_link": true
    }
  },
  "nbformat": 4,
  "nbformat_minor": 0
}