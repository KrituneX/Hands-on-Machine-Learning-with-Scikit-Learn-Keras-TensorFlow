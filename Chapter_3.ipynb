{
  "cells": [
    {
      "cell_type": "markdown",
      "metadata": {
        "id": "view-in-github",
        "colab_type": "text"
      },
      "source": [
        "<a href=\"https://colab.research.google.com/github/KrituneX/Hands-on-Machine-Learning-with-Scikit-Learn-Keras-TensorFlow/blob/main/Chapter_3.ipynb\" target=\"_parent\"><img src=\"https://colab.research.google.com/assets/colab-badge.svg\" alt=\"Open In Colab\"/></a>"
      ]
    },
    {
      "cell_type": "markdown",
      "metadata": {
        "id": "O-NqVWHwM5wL"
      },
      "source": [
        "# Ringkasan Chapter 3: Classification\n",
        "## Hands-On Machine Learning with Scikit-Learn, Keras, and TensorFlow (2nd Ed.)"
      ]
    },
    {
      "cell_type": "markdown",
      "metadata": {
        "id": "nzmqWNcwM5wN"
      },
      "source": [
        "### 1. Dataset MNIST\n",
        "- Dataset gambar digit tulisan tangan (70,000 gambar)\n",
        "- Setiap gambar 28x28 piksel (784 fitur)\n",
        "- Label 0-9"
      ]
    },
    {
      "cell_type": "code",
      "execution_count": null,
      "metadata": {
        "id": "T9gcJnN6M5wN"
      },
      "outputs": [],
      "source": [
        "from sklearn.datasets import fetch_openml\n",
        "mnist = fetch_openml('mnist_784', version=1)\n",
        "X, y = mnist[\"data\"], mnist[\"target\"]"
      ]
    },
    {
      "cell_type": "markdown",
      "metadata": {
        "id": "56hVApX3M5wO"
      },
      "source": [
        "### 2. Binary Classifier (5-detector)\n",
        "- Contoh membuat classifier untuk mendeteksi angka 5\n",
        "- Menggunakan SGDClassifier"
      ]
    },
    {
      "cell_type": "code",
      "execution_count": null,
      "metadata": {
        "id": "-sYsCP9gM5wO"
      },
      "outputs": [],
      "source": [
        "from sklearn.linear_model import SGDClassifier\n",
        "\n",
        "y_train_5 = (y_train == 5)  # True untuk semua angka 5\n",
        "sgd_clf = SGDClassifier(random_state=42)\n",
        "sgd_clf.fit(X_train, y_train_5)\n",
        "\n",
        "# Contoh prediksi\n",
        "sgd_clf.predict([some_digit])  # Misal some_digit adalah gambar angka 5"
      ]
    },
    {
      "cell_type": "markdown",
      "metadata": {
        "id": "gkQXVQSCM5wO"
      },
      "source": [
        "### 3. Evaluasi Model\n",
        "- **Confusion Matrix**\n",
        "- **Presisi dan Recall**\n",
        "- **F1 Score** (rata-rata harmonik presisi dan recall)\n",
        "- **ROC Curve**"
      ]
    },
    {
      "cell_type": "code",
      "execution_count": null,
      "metadata": {
        "id": "lmxvxEKHM5wO"
      },
      "outputs": [],
      "source": [
        "from sklearn.model_selection import cross_val_predict\n",
        "from sklearn.metrics import confusion_matrix, precision_score, recall_score, f1_score\n",
        "\n",
        "y_train_pred = cross_val_predict(sgd_clf, X_train, y_train_5, cv=3)\n",
        "confusion_matrix(y_train_5, y_train_pred)\n",
        "\n",
        "precision = precision_score(y_train_5, y_train_pred)\n",
        "recall = recall_score(y_train_5, y_train_pred)\n",
        "f1 = f1_score(y_train_5, y_train_pred)"
      ]
    },
    {
      "cell_type": "markdown",
      "metadata": {
        "id": "ycquV_m_M5wO"
      },
      "source": [
        "### 4. Multiclass Classification\n",
        "- **One-vs-Rest (OvR)**: Latih 10 binary classifier (0 vs rest, 1 vs rest, dst)\n",
        "- **One-vs-One (OvO)**: Latih classifier untuk setiap pasang kelas (45 classifier)\n",
        "\n",
        "Scikit-Learn otomatis menggunakan OvR atau OvO tergantung algoritma"
      ]
    },
    {
      "cell_type": "code",
      "execution_count": null,
      "metadata": {
        "id": "GtA5Yq5rM5wO"
      },
      "outputs": [],
      "source": [
        "from sklearn.svm import SVC\n",
        "svm_clf = SVC()\n",
        "svm_clf.fit(X_train, y_train)  # y_train, bukan y_train_5\n",
        "svm_clf.predict([some_digit])"
      ]
    },
    {
      "cell_type": "markdown",
      "metadata": {
        "id": "obDasumuM5wP"
      },
      "source": [
        "### 5. Error Analysis\n",
        "- Confusion matrix berguna untuk analisis error\n",
        "- Visualisasi error dengan matplotlib"
      ]
    },
    {
      "cell_type": "code",
      "execution_count": null,
      "metadata": {
        "id": "ubGtm8RLM5wP"
      },
      "outputs": [],
      "source": [
        "import matplotlib.pyplot as plt\n",
        "\n",
        "y_train_pred = cross_val_predict(sgd_clf, X_train, y_train, cv=3)\n",
        "conf_mx = confusion_matrix(y_train, y_train_pred)\n",
        "\n",
        "plt.matshow(conf_mx, cmap=plt.cm.gray)\n",
        "plt.show()"
      ]
    },
    {
      "cell_type": "markdown",
      "metadata": {
        "id": "6J0rOVwcM5wP"
      },
      "source": [
        "### 6. Multilabel dan Multioutput Classification\n",
        "- **Multilabel**: Multiple binary tags (contoh: wajah Alice dan Bob dalam satu gambar)\n",
        "- **Multioutput**: Multiclass multilabel (contoh: menghilangkan noise dari gambar)"
      ]
    },
    {
      "cell_type": "code",
      "execution_count": null,
      "metadata": {
        "id": "l6InWoOuM5wP"
      },
      "outputs": [],
      "source": [
        "# Contoh multilabel classification\n",
        "from sklearn.neighbors import KNeighborsClassifier\n",
        "\n",
        "y_train_large = (y_train >= 7)\n",
        "y_train_odd = (y_train % 2 == 1)\n",
        "y_multilabel = np.c_[y_train_large, y_train_odd]\n",
        "\n",
        "knn_clf = KNeighborsClassifier()\n",
        "knn_clf.fit(X_train, y_multilabel)\n",
        "knn_clf.predict([some_digit])"
      ]
    }
  ],
  "metadata": {
    "kernelspec": {
      "display_name": "Python 3",
      "language": "python",
      "name": "python3"
    },
    "language_info": {
      "codemirror_mode": {
        "name": "ipython",
        "version": 3
      },
      "file_extension": ".py",
      "mimetype": "text/x-python",
      "name": "python",
      "nbconvert_exporter": "python",
      "pygments_lexer": "ipython3",
      "version": "3.7.3"
    },
    "colab": {
      "provenance": [],
      "include_colab_link": true
    }
  },
  "nbformat": 4,
  "nbformat_minor": 0
}