{
  "cells": [
    {
      "cell_type": "markdown",
      "metadata": {
        "id": "view-in-github",
        "colab_type": "text"
      },
      "source": [
        "<a href=\"https://colab.research.google.com/github/KrituneX/Hands-on-Machine-Learning-with-Scikit-Learn-Keras-TensorFlow/blob/main/Chapter_5.ipynb\" target=\"_parent\"><img src=\"https://colab.research.google.com/assets/colab-badge.svg\" alt=\"Open In Colab\"/></a>"
      ]
    },
    {
      "cell_type": "markdown",
      "metadata": {
        "id": "ArMPw5SrTf2X"
      },
      "source": [
        "# Chapter 5: Support Vector Machines (SVM)"
      ]
    },
    {
      "cell_type": "markdown",
      "metadata": {
        "id": "lq_FmG0UTf2Y"
      },
      "source": [
        "## 1. Konsep Dasar- SVM menemukan hyperplane optimal untuk memisahkan kelas-kelas.- Memaksimalkan margin antara kelas-kelas.- Menggunakan support vectors (contoh pelatihan yang kritis)."
      ]
    },
    {
      "cell_type": "markdown",
      "metadata": {
        "id": "j9O4FGMdTf2Y"
      },
      "source": [
        "## 2. Implementasi dengan Scikit-Learn"
      ]
    },
    {
      "cell_type": "code",
      "execution_count": null,
      "metadata": {
        "id": "m41sxBc_Tf2Z"
      },
      "outputs": [],
      "source": [
        "from sklearn import datasets\n",
        "from sklearn.svm import SVC\n",
        "from sklearn.model_selection import train_test_split\n",
        "\n",
        "# Memuat dataset\n",
        "iris = datasets.load_iris()\n",
        "X = iris.data[:, :2]  # Menggunakan dua fitur pertama\n",
        "y = iris.target\n",
        "\n",
        "# Membagi data\n",
        "X_train, X_test, y_train, y_test = train_test_split(X, y, test_size=0.3)\n",
        "\n",
        "# Membuat model SVM\n",
        "model = SVC(kernel='linear')\n",
        "model.fit(X_train, y_train)\n",
        "\n",
        "# Evaluasi\n",
        "accuracy = model.score(X_test, y_test)\n",
        "print(f\"Akurasi: {accuracy:.2f}\")"
      ]
    },
    {
      "cell_type": "markdown",
      "metadata": {
        "id": "yxBnu-8bTf2Z"
      },
      "source": [
        "## 3. Jenis Kernel- **Kernel Linear**: untuk pemisahan linear.- **Kernel RBF**: untuk pemisahan non-linear.- **Kernel Polinomial**: untuk batas keputusan polinomial."
      ]
    },
    {
      "cell_type": "code",
      "execution_count": null,
      "metadata": {
        "id": "7AMOjXnWTf2Z"
      },
      "outputs": [],
      "source": [
        "# Contoh dengan kernel RBF\n",
        "rbf_model = SVC(kernel='rbf', gamma='scale')\n",
        "rbf_model.fit(X_train, y_train)\n",
        "rbf_accuracy = rbf_model.score(X_test, y_test)\n",
        "print(f\"Akurasi Kernel RBF: {rbf_accuracy:.2f}\")"
      ]
    },
    {
      "cell_type": "markdown",
      "metadata": {
        "id": "Xmt_DYJNTf2a"
      },
      "source": [
        "## 4. Parameter Kunci- **C**: Parameter regularisasi yang mengontrol trade-off antara mencapai kesalahan pelatihan yang rendah dan kesalahan pengujian yang rendah.\n",
        "- **kernel**: Jenis fungsi kernel yang akan digunakan dalam algoritma.\n",
        "- **gamma**: Koefisien kernel untuk 'rbf', 'poly', dan 'sigmoid'. Nilai rendah berarti 'jauh' dan nilai tinggi berarti 'dekat'."
      ]
    },
    {
      "cell_type": "markdown",
      "metadata": {
        "id": "q5C4XrZbTf2a"
      },
      "source": [
        "## 5. Kelebihan SVM- Efektif dalam ruang berdimensi tinggi.- Efisien dalam penggunaan memori.- Fleksibel dengan berbagai fungsi kernel."
      ]
    },
    {
      "cell_type": "markdown",
      "metadata": {
        "id": "km0i6i23Tf2a"
      },
      "source": [
        "## 6. Kekurangan SVM- Tidak cocok untuk dataset besar karena waktu pelatihan yang tinggi.- Kurang efektif pada dataset yang bising dengan kelas yang tumpang tindih."
      ]
    },
    {
      "cell_type": "markdown",
      "metadata": {
        "id": "pkg9F3BnTf2a"
      },
      "source": [
        "## 7. Kesimpulan- SVM adalah algoritma yang kuat untuk tugas klasifikasi.\n",
        "- Dapat menangani data linear dan non-linear dengan efektif.\n",
        "- Memilih kernel dan parameter yang tepat sangat penting untuk kinerja."
      ]
    }
  ],
  "metadata": {
    "kernelspec": {
      "display_name": "Python 3",
      "language": "python",
      "name": "python3"
    },
    "language_info": {
      "codemirror_mode": {
        "name": "ipython",
        "version": 3
      },
      "file_extension": ".py",
      "mimetype": "text/x-python",
      "name": "python",
      "nbconvert_exporter": "python",
      "pygments_lexer": "ipython3",
      "version": "3.7.3"
    },
    "colab": {
      "provenance": [],
      "include_colab_link": true
    }
  },
  "nbformat": 4,
  "nbformat_minor": 0
}