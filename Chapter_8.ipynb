{
  "cells": [
    {
      "cell_type": "markdown",
      "metadata": {
        "id": "view-in-github",
        "colab_type": "text"
      },
      "source": [
        "<a href=\"https://colab.research.google.com/github/KrituneX/Hands-on-Machine-Learning-with-Scikit-Learn-Keras-TensorFlow/blob/main/Chapter_8.ipynb\" target=\"_parent\"><img src=\"https://colab.research.google.com/assets/colab-badge.svg\" alt=\"Open In Colab\"/></a>"
      ]
    },
    {
      "cell_type": "markdown",
      "metadata": {
        "id": "vDVWu5e9myP7"
      },
      "source": [
        "# Ringkasan Chapter 8: Dimensionality Reduction\n",
        "## Hands-On Machine Learning with Scikit-Learn, Keras, and TensorFlow (2nd Ed.)"
      ]
    },
    {
      "cell_type": "markdown",
      "metadata": {
        "id": "340ZdnuwmyP8"
      },
      "source": [
        "### 1. Konsep Dasar Reduksi Dimensi\n",
        "- Reduksi dimensi adalah teknik yang digunakan untuk mengurangi jumlah fitur dalam dataset sambil mempertahankan informasi penting.\n",
        "- **Tujuan Utama**:\n",
        "  - Mengatasi *curse of dimensionality*, di mana model menjadi kurang efektif saat jumlah fitur meningkat.\n",
        "  - Mempercepat komputasi dan mengurangi waktu pelatihan model.\n",
        "  - Memudahkan visualisasi data, terutama saat mereduksi ke 2D atau 3D.\n",
        "  - Menghilangkan noise dan redundansi dalam data, yang dapat meningkatkan akurasi model.\n",
        "- **Contoh Aplikasi**: Pengenalan wajah, pemrosesan gambar, analisis teks, dan pengolahan sinyal."
      ]
    },
    {
      "cell_type": "markdown",
      "metadata": {
        "id": "rVwvaW5lmyP9"
      },
      "source": [
        "### 2. Principal Component Analysis (PCA)\n",
        "- PCA adalah metode reduksi dimensi yang paling populer dan banyak digunakan dalam analisis data.\n",
        "- **Prinsip Kerja**:\n",
        "  - PCA mengubah data ke dalam sistem koordinat baru, di mana sumbu baru (komponen utama) adalah arah varians maksimum dalam data.\n",
        "  - Dengan memilih beberapa komponen utama teratas, kita dapat mereduksi dimensi data sambil mempertahankan sebagian besar informasi.\n",
        "- **Langkah-langkah PCA**:\n",
        "  1. **Standarisasi Data**: Mengubah data sehingga memiliki rata-rata 0 dan deviasi standar 1. Ini penting agar semua fitur memiliki skala yang sama.\n",
        "  2. **Hitung Matriks Kovarians**: Matriks ini menunjukkan seberapa variabel fitur berhubungan satu sama lain. Matriks kovarians \\( Cov(X) \\) dapat dihitung dengan rumus:\n",
        "    \n",
        "  $$ Cov(X) = \\frac{1}{n-1} (X - \\bar{X})^T (X - \\bar{X}) $$\n",
        "  \n",
        "  3. **Hitung Eigenvalue dan Eigenvector**: Eigenvalue menunjukkan seberapa besar varians yang dijelaskan oleh masing-masing komponen, sedangkan eigenvector menunjukkan arah komponen tersebut.\n",
        "  4. **Pilih Komponen Utama**: Memilih beberapa eigenvector teratas berdasarkan eigenvalue untuk membentuk ruang fitur baru. Komponen utama yang dipilih adalah yang menjelaskan varians terbesar.\n",
        "  5. **Transformasi Data**: Mengalikan data asli dengan komponen utama untuk mendapatkan data yang direduksi. Transformasi ini dapat dinyatakan dengan rumus:\n",
        "     $$ Z = XW $$\n",
        "     Di mana \\( Z \\) adalah data yang direduksi, \\( X \\) adalah data asli, dan \\( W \\) adalah matriks komponen utama.\n",
        "- **Kelebihan PCA**:\n",
        "  - Mengurangi kompleksitas model dan meningkatkan kecepatan pelatihan.\n",
        "  - Membantu dalam visualisasi data yang kompleks.\n",
        "- **Kekurangan PCA**:\n",
        "  - PCA hanya efektif jika data memiliki struktur linier. Untuk data non-linear, metode lain seperti t-SNE atau UMAP mungkin lebih cocok."
      ]
    },
    {
      "cell_type": "markdown",
      "metadata": {
        "id": "7HPhzUYTmyP9"
      },
      "source": [
        "### 3. Contoh Kode PCA\n",
        "- Berikut adalah contoh implementasi PCA menggunakan scikit-learn untuk mereduksi dimensi dataset Iris.\n"
      ]
    },
    {
      "cell_type": "code",
      "execution_count": null,
      "metadata": {
        "id": "RzBRVjsXmyP-"
      },
      "outputs": [],
      "source": [
        "from sklearn.datasets import load_iris\n",
        "from sklearn.decomposition import PCA\n",
        "import matplotlib.pyplot as plt\n",
        "\n",
        "# Memuat dataset Iris\n",
        "iris = load_iris()\n",
        "X = iris.data\n",
        "y = iris.target\n",
        "\n",
        "# Menggunakan PCA untuk mereduksi dimensi menjadi 2\n",
        "pca = PCA(n_components=2)\n",
        "X_reduced = pca.fit_transform(X)\n",
        "\n",
        "# Visualisasi hasil reduksi dimensi\n",
        "plt.figure(figsize=(8, 6))\n",
        "scatter = plt.scatter(X_reduced[:, 0], X_reduced[:, 1], c=y, cmap='viridis')\n",
        "plt.title('PCA - Iris Dataset')\n",
        "plt.xlabel('Komponen Utama 1')\n",
        "plt.ylabel('Komponen Utama 2')\n",
        "plt.colorbar(scatter, label='Kelas')\n",
        "plt.show()"
      ]
    },
    {
      "cell_type": "markdown",
      "metadata": {
        "id": "U78fS-pAmyP-"
      },
      "source": [
        "### 4. T-SNE (t-Distributed Stochastic Neighbor Embedding)\n",
        "- T-SNE adalah metode lain untuk reduksi dimensi yang lebih baik untuk visualisasi data non-linear.\n",
        "- **Prinsip Kerja**:\n",
        "  - T-SNE mengubah data ke dalam ruang dimensi yang lebih rendah dengan menjaga struktur lokal data. Ini sangat berguna untuk visualisasi dataset yang kompleks.\n",
        "- **Kelebihan**:\n",
        "  - Menjaga struktur lokal data, sehingga sangat baik untuk visualisasi.\n",
        "- **Kekurangan**:\n",
        "  - Lebih lambat dibandingkan PCA dan tidak cocok untuk dataset besar.\n",
        "- **Rumus**: T-SNE menggunakan probabilitas untuk menghitung jarak antara titik data dalam dimensi tinggi dan rendah."
      ]
    },
    {
      "cell_type": "markdown",
      "metadata": {
        "id": "4xdRRPgemyP-"
      },
      "source": [
        "### 5. Contoh Kode T-SNE\n",
        "- Berikut adalah contoh implementasi T-SNE menggunakan scikit-learn untuk mereduksi dimensi dataset Iris.\n"
      ]
    },
    {
      "cell_type": "code",
      "execution_count": null,
      "metadata": {
        "id": "CvQc-op1myP-"
      },
      "outputs": [],
      "source": [
        "from sklearn.manifold import TSNE\n",
        "\n",
        "# Menggunakan T-SNE untuk mereduksi dimensi menjadi 2\n",
        "tsne = TSNE(n_components=2, random_state=42)\n",
        "X_tsne = tsne.fit_transform(X)\n",
        "\n",
        "# Visualisasi hasil reduksi dimensi\n",
        "plt.figure(figsize=(8, 6))\n",
        "scatter = plt.scatter(X_tsne[:, 0], X_tsne[:, 1], c=y, cmap='viridis')\n",
        "plt.title('T-SNE - Iris Dataset')\n",
        "plt.xlabel('Dimensi 1')\n",
        "plt.ylabel('Dimensi 2')\n",
        "plt.colorbar(scatter, label='Kelas')\n",
        "plt.show()"
      ]
    },
    {
      "cell_type": "markdown",
      "metadata": {
        "id": "yZWjVbkvmyP_"
      },
      "source": [
        "### 6. Catatan Penting\n",
        "- **Keunggulan**: Reduksi dimensi dapat membantu dalam mempercepat algoritma pembelajaran mesin dan meningkatkan akurasi dengan menghilangkan noise.\n",
        "- **Kelemahan**: Beberapa informasi mungkin hilang selama proses reduksi, yang dapat mempengaruhi hasil model.\n",
        "- **Penggunaan**: Sangat berguna dalam analisis data eksploratif, visualisasi, dan preprocessing sebelum pelatihan model.\n",
        "- **Tips**: Saat menggunakan teknik reduksi dimensi, penting untuk memahami karakteristik data dan memilih metode yang sesuai. PCA lebih baik untuk data linier, sedangkan T-SNE lebih baik untuk data non-linear."
      ]
    }
  ],
  "metadata": {
    "kernelspec": {
      "display_name": "Python 3",
      "language": "python",
      "name": "python3"
    },
    "language_info": {
      "codemirror_mode": {
        "name": "ipython",
        "version": 3
      },
      "file_extension": ".py",
      "mimetype": "text/x-python",
      "name": "python",
      "nbconvert_exporter": "python",
      "pygments_lexer": "ipython3",
      "version": "3.8.5"
    },
    "colab": {
      "provenance": [],
      "include_colab_link": true
    }
  },
  "nbformat": 4,
  "nbformat_minor": 0
}