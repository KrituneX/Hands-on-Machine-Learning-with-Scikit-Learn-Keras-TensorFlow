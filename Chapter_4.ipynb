{
  "cells": [
    {
      "cell_type": "markdown",
      "metadata": {
        "id": "view-in-github",
        "colab_type": "text"
      },
      "source": [
        "<a href=\"https://colab.research.google.com/github/KrituneX/Hands-on-Machine-Learning-with-Scikit-Learn-Keras-TensorFlow/blob/main/Chapter_4.ipynb\" target=\"_parent\"><img src=\"https://colab.research.google.com/assets/colab-badge.svg\" alt=\"Open In Colab\"/></a>"
      ]
    },
    {
      "cell_type": "markdown",
      "metadata": {
        "id": "pm4lC6_vORZi"
      },
      "source": [
        "# Ringkasan Chapter 4: Training Models\n",
        "## Hands-On Machine Learning with Scikit-Learn, Keras, and TensorFlow (2nd Ed.)"
      ]
    },
    {
      "cell_type": "markdown",
      "metadata": {
        "id": "FI9XDpawORZk"
      },
      "source": [
        "### 1. Linear Regression\n",
        "- Model sederhana yang memprediksi nilai dengan fungsi linear.\n",
        "- Rumus:\n",
        "  $$y = \\theta_0 + \\theta_1 x_1 + \\theta_2 x_2 + ... + \\theta_n x_n$$\n",
        "- Dalam bentuk vektor:\n",
        "  $$y = h_\\theta(x) = \\theta \\cdot x$$\n",
        "- **Contoh**: Jika kita ingin memprediksi harga rumah berdasarkan luas dan lokasi, kita bisa menggunakan model ini."
      ]
    },
    {
      "cell_type": "code",
      "execution_count": null,
      "metadata": {
        "id": "SY0ob2WiORZk"
      },
      "outputs": [],
      "source": [
        "import numpy as np\n",
        "\n",
        "# Contoh data\n",
        "X = np.array([[1], [2], [3]])\n",
        "y = np.array([[1], [2], [3]])"
      ]
    },
    {
      "cell_type": "markdown",
      "metadata": {
        "id": "ZHe_ubWLORZl"
      },
      "source": [
        "### 2. Cost Function\n",
        "- MSE (Mean Squared Error):\n",
        "  $$MSE(\\theta) = \\frac{1}{m} \\sum_{i=1}^{m} (h_\\theta(x_i) - y_i)^2$$\n",
        "- **Tujuan**: Menemukan parameter yang meminimalkan MSE.\n",
        "- **Interpretasi**: MSE mengukur seberapa baik model memprediksi nilai yang sebenarnya."
      ]
    },
    {
      "cell_type": "code",
      "execution_count": null,
      "metadata": {
        "id": "Xcqik3MbORZl"
      },
      "outputs": [],
      "source": [
        "def compute_mse(theta, X, y):\n",
        "    m = len(y)\n",
        "    predictions = X.dot(theta)\n",
        "    return (1/m) * np.sum((predictions - y) ** 2)"
      ]
    },
    {
      "cell_type": "markdown",
      "metadata": {
        "id": "cEA54YpCORZl"
      },
      "source": [
        "### 3. Normal Equation\n",
        "- Solusi tertutup untuk menemukan parameter terbaik:\n",
        "  $$\\theta = (X^T X)^{-1} X^T y$$\n",
        "- **Kelebihan**: Dapat menghitung parameter secara langsung tanpa iterasi.\n",
        "- **Kekurangan**: Tidak efisien untuk dataset besar."
      ]
    },
    {
      "cell_type": "code",
      "execution_count": null,
      "metadata": {
        "id": "r5vfTt9wORZl"
      },
      "outputs": [],
      "source": [
        "def normal_equation(X, y):\n",
        "    return np.linalg.inv(X.T.dot(X)).dot(X.T).dot(y)"
      ]
    },
    {
      "cell_type": "markdown",
      "metadata": {
        "id": "3f4NWwriORZl"
      },
      "source": [
        "### 4. Gradient Descent\n",
        "- Metode iteratif untuk meminimalkan fungsi biaya.\n",
        "- Langkah:\n",
        "  $$\\theta_{next} = \\theta - \\eta \\nabla J(\\theta)$$\n",
        "- **Learning Rate**: Menentukan seberapa besar langkah yang diambil.\n",
        "- **Kelebihan**: Efisien untuk dataset besar dan dapat digunakan untuk berbagai model."
      ]
    },
    {
      "cell_type": "code",
      "execution_count": null,
      "metadata": {
        "id": "FYlfI30WORZl"
      },
      "outputs": [],
      "source": [
        "def gradient_descent(X, y, theta, learning_rate, n_iterations):\n",
        "    m = len(y)\n",
        "    for _ in range(n_iterations):\n",
        "        gradients = (2/m) * X.T.dot(X.dot(theta) - y)\n",
        "        theta = theta - learning_rate * gradients\n",
        "    return theta"
      ]
    },
    {
      "cell_type": "markdown",
      "metadata": {
        "id": "KhNipFQgORZm"
      },
      "source": [
        "### 5. Polynomial Regression\n",
        "- Menambahkan derajat polinomial untuk menangkap hubungan non-linear.\n",
        "- Contoh:\n",
        "  $$y = 0.5 x^2 + x + 2 + noise$$\n",
        "- **Transformasi**: Menggunakan `PolynomialFeatures` untuk menambah fitur."
      ]
    },
    {
      "cell_type": "code",
      "execution_count": null,
      "metadata": {
        "id": "eqVuUSAMORZm"
      },
      "outputs": [],
      "source": [
        "from sklearn.preprocessing import PolynomialFeatures\n",
        "\n",
        "poly_features = PolynomialFeatures(degree=2, include_bias=False)\n",
        "X_poly = poly_features.fit_transform(X)"
      ]
    },
    {
      "cell_type": "markdown",
      "metadata": {
        "id": "6fLk0hK_ORZm"
      },
      "source": [
        "### 6. Learning Curves\n",
        "- Memvisualisasikan performa model terhadap ukuran data pelatihan.\n",
        "- Membantu mendeteksi overfitting dan underfitting.\n",
        "- **Contoh**: Menggunakan fungsi untuk menggambar learning curves."
      ]
    },
    {
      "cell_type": "code",
      "execution_count": null,
      "metadata": {
        "id": "5jhZ8qK_ORZm"
      },
      "outputs": [],
      "source": [
        "import matplotlib.pyplot as plt\n",
        "from sklearn.model_selection import train_test_split\n",
        "\n",
        "def plot_learning_curves(model, X, y):\n",
        "    X_train, X_val, y_train, y_val = train_test_split(X, y, test_size=0.2)\n",
        "    train_errors, val_errors = [], []\n",
        "    for m in range(1, len(X_train)):\n",
        "        model.fit(X_train[:m], y_train[:m])\n",
        "        y_train_predict = model.predict(X_train[:m])\n",
        "        y_val_predict = model.predict(X_val)\n",
        "        train_errors.append(mean_squared_error(y_train[:m], y_train_predict))\n",
        "        val_errors.append(mean_squared_error(y_val, y_val_predict))\n",
        "    plt.plot(np.sqrt(train_errors), 'r-', label='train')\n",
        "    plt.plot(np.sqrt(val_errors), 'b-', label='val')\n",
        "    plt.xlabel('Training Set Size')\n",
        "    plt.ylabel('RMSE')\n",
        "    plt.legend()\n",
        "    plt.show()"
      ]
    },
    {
      "cell_type": "markdown",
      "metadata": {
        "id": "Ncht3EQBORZm"
      },
      "source": [
        "### 7. Bias/Variance Trade-off\n",
        "- Generalisasi error = Bias + Variance + Irreducible Error\n",
        "- Bias: Kesalahan karena asumsi yang salah (underfitting)\n",
        "- Variance: Sensitivitas terhadap variasi kecil dalam data (overfitting)\n",
        "- **Tujuan**: Menemukan keseimbangan antara bias dan variance."
      ]
    },
    {
      "cell_type": "markdown",
      "metadata": {
        "id": "-V1EwKa-ORZm"
      },
      "source": [
        "### 8. Regularized Linear Models\n",
        "- **Ridge Regression**: Menambahkan penalti L2 ke fungsi biaya.\n",
        "- **Lasso Regression**: Menambahkan penalti L1 ke fungsi biaya.\n",
        "- **Elastic Net**: Kombinasi dari Ridge dan Lasso."
      ]
    },
    {
      "cell_type": "code",
      "execution_count": null,
      "metadata": {
        "id": "RbNlvCZlORZm"
      },
      "outputs": [],
      "source": [
        "from sklearn.linear_model import Ridge, Lasso, ElasticNet\n",
        "\n",
        "ridge_reg = Ridge(alpha=1)\n",
        "lasso_reg = Lasso(alpha=1)\n",
        "elastic_net_reg = ElasticNet(alpha=1, l1_ratio=0.5)\n",
        "ridge_reg.fit(X, y)\n",
        "lasso_reg.fit(X, y)\n",
        "elastic_net_reg.fit(X, y)"
      ]
    },
    {
      "cell_type": "markdown",
      "metadata": {
        "id": "PYi5m7foORZm"
      },
      "source": [
        "### 9. Evaluasi Model\n",
        "- Menggunakan cross-validation untuk mengevaluasi model.\n",
        "- Memeriksa performa model dengan metrik seperti RMSE, MAE, dan R-squared."
      ]
    },
    {
      "cell_type": "code",
      "execution_count": null,
      "metadata": {
        "id": "cVSbCE34ORZm"
      },
      "outputs": [],
      "source": [
        "from sklearn.model_selection import cross_val_score\n",
        "from sklearn.metrics import mean_squared_error\n",
        "\n",
        "scores = cross_val_score(ridge_reg, X, y, scoring='neg_mean_squared_error', cv=5)\n",
        "ridge_rmse_scores = np.sqrt(-scores)\n",
        "print('Ridge RMSE:', ridge_rmse_scores.mean())"
      ]
    }
  ],
  "metadata": {
    "kernelspec": {
      "display_name": "Python 3",
      "language": "python",
      "name": "python3"
    },
    "language_info": {
      "codemirror_mode": {
        "name": "ipython",
        "version": 3
      },
      "file_extension": ".py",
      "mimetype": "text/x-python",
      "name": "python",
      "nbconvert_exporter": "python",
      "pygments_lexer": "ipython3",
      "version": "3.7.3"
    },
    "colab": {
      "provenance": [],
      "include_colab_link": true
    }
  },
  "nbformat": 4,
  "nbformat_minor": 0
}