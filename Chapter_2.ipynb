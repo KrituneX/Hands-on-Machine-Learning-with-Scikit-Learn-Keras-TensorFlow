{
  "cells": [
    {
      "cell_type": "markdown",
      "metadata": {
        "id": "view-in-github",
        "colab_type": "text"
      },
      "source": [
        "<a href=\"https://colab.research.google.com/github/KrituneX/Hands-on-Machine-Learning-with-Scikit-Learn-Keras-TensorFlow/blob/main/Chapter_2.ipynb\" target=\"_parent\"><img src=\"https://colab.research.google.com/assets/colab-badge.svg\" alt=\"Open In Colab\"/></a>"
      ]
    },
    {
      "cell_type": "markdown",
      "source": [
        "# **CHAPTER 2: Proyek Pembelajaran Mesin dari Awal hingga Akhir**"
      ],
      "metadata": {
        "id": "O3NZNszaEgBJ"
      },
      "id": "O3NZNszaEgBJ"
    },
    {
      "cell_type": "markdown",
      "source": [
        "Bab ini memandu Anda melalui proyek Pembelajaran Mesin (ML) secara end-to-end, menggunakan contoh prediksi harga rumah di California. Fokusnya adalah pada langkah-langkah praktis dan implementasi kode."
      ],
      "metadata": {
        "id": "2iQ1b8otDdiZ"
      },
      "id": "2iQ1b8otDdiZ"
    },
    {
      "cell_type": "markdown",
      "source": [
        "1. Melihat Gambaran Besar (Look at the Big Picture)\n",
        "- Tujuan Bisnis: Memprediksi harga rumah rata-rata di setiap distrik untuk membantu sistem ML lain dalam keputusan investasi.\n",
        "- Framing Masalah: Ini adalah tugas supervised learning (data berlabel), regression (memprediksi nilai numerik), multiple regression (banyak fitur input), dan univariate regression (satu nilai output). Batch learning cocok karena data tidak mengalir terus-menerus dan cukup kecil.\n",
        "- Asumsi: Penting untuk memverifikasi asumsi awal, seperti kebutuhan sistem hilir akan harga aktual."
      ],
      "metadata": {
        "id": "lQ2Sz_RUDhl8"
      },
      "id": "lQ2Sz_RUDhl8"
    },
    {
      "cell_type": "markdown",
      "source": [],
      "metadata": {
        "id": "RTPk4mSwFM9c"
      },
      "id": "RTPk4mSwFM9c"
    },
    {
      "cell_type": "markdown",
      "source": [
        "- Metrik Performa: Root Mean Square Error (RMSE) adalah metrik umum untuk regresi.\n",
        "\n",
        "![image.png](data:image/png;base64,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)\n",
        "\n",
        "RMSE lebih sensitif terhadap outlier daripada Mean Absolute Error (MAE)"
      ],
      "metadata": {
        "id": "4F5owkwOE5LE"
      },
      "id": "4F5owkwOE5LE"
    },
    {
      "cell_type": "markdown",
      "source": [
        "2. Mendapatkan Data (Get the Data)\n",
        "\n",
        "- Dataset: California Housing Prices dataset dari repositori StatLib, berdasarkan data sensus California tahun 1990.\n"
      ],
      "metadata": {
        "id": "WY4XSYkjFkTl"
      },
      "id": "WY4XSYkjFkTl"
    },
    {
      "cell_type": "markdown",
      "source": [
        "- Membuat Workspace:"
      ],
      "metadata": {
        "id": "3VKGiQLCGJgh"
      },
      "id": "3VKGiQLCGJgh"
    },
    {
      "cell_type": "code",
      "source": [
        "# Perintah ini biasanya dijalankan di terminal Google Colab atau terminal lokal\n",
        "# Tidak perlu dijalankan dalam sel Python biasa karena ini adalah perintah shell/bash\n",
        "\n",
        "# Install library yang dibutuhkan (biasanya sudah ada di Colab)\n",
        "# !pip install pandas numpy scikit-learn matplotlib scipy\n",
        "\n",
        "# Membuat direktori kerja (jika belum ada)\n",
        "# import os\n",
        "# ML_PATH = os.path.join(os.getcwd(), \"ml_project\") # Contoh path di Colab\n",
        "# os.makedirs(ML_PATH, exist_ok=True)\n",
        "# os.chdir(ML_PATH) # Pindah ke direktori kerja\n",
        "\n",
        "print(\"Workspace setup commands provided as comments.\")\n",
        "print(\"In Colab, libraries are often pre-installed, and direct folder creation is less critical.\")"
      ],
      "metadata": {
        "colab": {
          "base_uri": "https://localhost:8080/"
        },
        "id": "5FrGnkCfFz_x",
        "outputId": "ccd40fc7-079d-4d18-c174-a9eed3673003"
      },
      "id": "5FrGnkCfFz_x",
      "execution_count": 2,
      "outputs": [
        {
          "output_type": "stream",
          "name": "stdout",
          "text": [
            "Workspace setup commands provided as comments.\n",
            "In Colab, libraries are often pre-installed, and direct folder creation is less critical.\n"
          ]
        }
      ]
    },
    {
      "cell_type": "markdown",
      "source": [
        "- Mengunduh Data:"
      ],
      "metadata": {
        "id": "FuKBfK9QGNS3"
      },
      "id": "FuKBfK9QGNS3"
    },
    {
      "cell_type": "code",
      "source": [
        "import os\n",
        "import tarfile\n",
        "import urllib.request\n",
        "import pandas as pd\n",
        "import numpy as np\n",
        "\n",
        "DOWNLOAD_ROOT = \"https://raw.githubusercontent.com/ageron/handson-ml2/master/\"\n",
        "HOUSING_PATH = os.path.join(\"datasets\", \"housing\")\n",
        "HOUSING_URL = DOWNLOAD_ROOT + \"datasets/housing/housing.tgz\"\n",
        "\n",
        "def fetch_housing_data(housing_url=HOUSING_URL, housing_path=HOUSING_PATH):\n",
        "    os.makedirs(housing_path, exist_ok=True) # Buat folder jika belum ada\n",
        "    tgz_path = os.path.join(housing_path, \"housing.tgz\")\n",
        "    print(f\"Mengunduh data dari: {housing_url} ke: {tgz_path}\")\n",
        "    urllib.request.urlretrieve(housing_url, tgz_path)\n",
        "    housing_tgz = tarfile.open(tgz_path)\n",
        "    housing_tgz.extractall(path=housing_path)\n",
        "    housing_tgz.close()\n",
        "\n",
        "print(\"Mengunduh data...\")\n",
        "fetch_housing_data()\n",
        "print(\"Data berhasil diunduh dan diekstrak.\")"
      ],
      "metadata": {
        "id": "1WCCiFTgGLrS"
      },
      "id": "1WCCiFTgGLrS",
      "execution_count": null,
      "outputs": []
    },
    {
      "cell_type": "markdown",
      "source": [
        "- Melihat Struktur Data:"
      ],
      "metadata": {
        "id": "99J7Y3t4GQFM"
      },
      "id": "99J7Y3t4GQFM"
    },
    {
      "cell_type": "code",
      "source": [
        "def load_housing_data(housing_path=HOUSING_PATH):\n",
        "    csv_path = os.path.join(housing_path, \"housing.csv\")\n",
        "    return pd.read_csv(csv_path)\n",
        "\n",
        "housing = load_housing_data()\n",
        "print(\"\\n--- 5 Baris Pertama Data (housing.head()) ---\")\n",
        "print(housing.head())\n",
        "print(\"\\n--- Informasi DataFrame (housing.info()) ---\")\n",
        "housing.info()\n",
        "print(\"\\n--- Jumlah Kategori 'ocean_proximity' (housing[\\\"ocean_proximity\\\"].value_counts()) ---\")\n",
        "print(housing[\"ocean_proximity\"].value_counts())\n",
        "print(\"\\n--- Ringkasan Statistik Atribut Numerik (housing.describe()) ---\")\n",
        "print(housing.describe())\n",
        "# Atribut total_bedrooms memiliki 207 nilai hilang.\n",
        "# Atribut ocean_proximity adalah kategorikal (tipe object)."
      ],
      "metadata": {
        "id": "7WquE56UGRfV"
      },
      "id": "7WquE56UGRfV",
      "execution_count": null,
      "outputs": []
    },
    {
      "cell_type": "markdown",
      "source": [
        "- Membuat Test Set: Hindari data snooping bias dengan memisahkan test set sejak awal."
      ],
      "metadata": {
        "id": "6Y0HkZVHGSRw"
      },
      "id": "6Y0HkZVHGSRw"
    },
    {
      "cell_type": "code",
      "source": [
        "from sklearn.model_selection import StratifiedShuffleSplit\n",
        "\n",
        "# Membuat kategori pendapatan (`income_cat`) untuk stratified sampling\n",
        "housing[\"income_cat\"] = pd.cut(housing[\"median_income\"],\n",
        "                                bins=[0., 1.5, 3.0, 4.5, 6., np.inf],\n",
        "                                labels=[1, 2, 3, 4, 5])\n",
        "\n",
        "print(\"\\n--- Proporsi Kategori Pendapatan di Training/Test Set (Stratified Sampling) ---\")\n",
        "split = StratifiedShuffleSplit(n_splits=1, test_size=0.2, random_state=42)\n",
        "for train_index, test_index in split.split(housing, housing[\"income_cat\"]):\n",
        "    strat_train_set = housing.loc[train_index]\n",
        "    strat_test_set = housing.loc[test_index]\n",
        "\n",
        "print(\"Proporsi kategori pendapatan di test set:\")\n",
        "print(strat_test_set[\"income_cat\"].value_counts(normalize=True))\n",
        "print(\"Proporsi kategori pendapatan di training set:\")\n",
        "print(strat_train_set[\"income_cat\"].value_counts(normalize=True))\n",
        "\n",
        "# Menghapus atribut income_cat setelah split\n",
        "for set_ in (strat_train_set, strat_test_set):\n",
        "    set_.drop(\"income_cat\", axis=1, inplace=True)\n",
        "print(\"Atribut 'income_cat' dihapus dari training dan test set.\")"
      ],
      "metadata": {
        "id": "6jmQK061GT63"
      },
      "id": "6jmQK061GT63",
      "execution_count": null,
      "outputs": []
    },
    {
      "cell_type": "markdown",
      "source": [
        "3. Menjelajahi dan Memvisualisasikan Data (Discover and Visualize the Data to Gain Insights)\n",
        "Visualisasi Geografis:"
      ],
      "metadata": {
        "id": "NMchrjiQGUxJ"
      },
      "id": "NMchrjiQGUxJ"
    },
    {
      "cell_type": "code",
      "source": [
        "housing_explore = strat_train_set.copy() # Salinan untuk eksplorasi\n",
        "\n",
        "# Scatterplot dengan kepadatan data tinggi\n",
        "plt.figure(figsize=(8, 6))\n",
        "housing_explore.plot(kind=\"scatter\", x=\"longitude\", y=\"latitude\", alpha=0.1)\n",
        "plt.title(\"Kepadatan Distrik di California\")\n",
        "plt.xlabel(\"Longitude\")\n",
        "plt.ylabel(\"Latitude\")\n",
        "plt.show()\n",
        "\n",
        "# Scatterplot dengan populasi (ukuran) dan harga rumah (warna)\n",
        "plt.figure(figsize=(10, 7))\n",
        "housing_explore.plot(kind=\"scatter\", x=\"longitude\", y=\"latitude\", alpha=0.4,\n",
        "                     s=housing_explore[\"population\"]/100, label=\"Population\", figsize=(10,7),\n",
        "                     c=\"median_house_value\", cmap=plt.get_cmap(\"jet\"), colorbar=True)\n",
        "plt.title(\"Harga Rumah di California (Populasi & Nilai Median)\")\n",
        "plt.xlabel(\"Longitude\")\n",
        "plt.ylabel(\"Latitude\")\n",
        "plt.legend()\n",
        "plt.show()\n",
        "# Visualisasi menunjukkan harga terkait dengan lokasi (dekat laut) dan kepadatan populasi."
      ],
      "metadata": {
        "id": "q1FEjttkGWbl"
      },
      "id": "q1FEjttkGWbl",
      "execution_count": null,
      "outputs": []
    },
    {
      "cell_type": "markdown",
      "source": [
        "- Mencari Korelasi:"
      ],
      "metadata": {
        "id": "y9kiL-SiGYFm"
      },
      "id": "y9kiL-SiGYFm"
    },
    {
      "cell_type": "code",
      "source": [
        "corr_matrix = housing_explore.corr(numeric_only=True) # numeric_only=True untuk menghindari warning pandas\n",
        "print(\"\\n--- Korelasi 'median_house_value' dengan Atribut Lain ---\")\n",
        "print(corr_matrix[\"median_house_value\"].sort_values(ascending=False))\n",
        "# median_income memiliki korelasi positif yang kuat.\n",
        "# Ada batasan harga di $500,000 dan garis horizontal lain."
      ],
      "metadata": {
        "id": "es4_eQQCGZXn"
      },
      "id": "es4_eQQCGZXn",
      "execution_count": null,
      "outputs": []
    },
    {
      "cell_type": "markdown",
      "source": [
        "Mengeksplorasi Kombinasi Atribut:\n",
        "    housing_explore[\"rooms_per_household\"] = housing_explore[\"total_rooms\"] / housing_explore[\"households\"]\n",
        "housing_explore[\"bedrooms_per_room\"] = housing_explore[\"total_bedrooms\"] / housing_explore[\"total_rooms\"]\n",
        "housing_explore[\"population_per_household\"] = housing_explore[\"population\"] / housing_explore[\"households\"]"
      ],
      "metadata": {
        "id": "L7sfkbyHGcaq"
      },
      "id": "L7sfkbyHGcaq"
    },
    {
      "cell_type": "markdown",
      "source": [
        "4. Mempersiapkan Data untuk Algoritma Machine\n",
        "\n",
        "- Learning (Prepare the Data for Machine Learning Algorithms)\n",
        "- Memisahkan prediktor (housing) dan label (housing_labels) dari strat_train_set.\n",
        "Pembersihan Data (Data Cleaning):"
      ],
      "metadata": {
        "id": "5wDEGw5nGd7H"
      },
      "id": "5wDEGw5nGd7H"
    },
    {
      "cell_type": "code",
      "source": [
        "from sklearn.impute import SimpleImputer\n",
        "\n",
        "housing = strat_train_set.drop(\"median_house_value\", axis=1) # Prediktor dari training set\n",
        "housing_labels = strat_train_set[\"median_house_value\"].copy() # Label dari training set\n",
        "\n",
        "housing_num = housing.select_dtypes(include=np.number) # Pilih hanya kolom numerik\n",
        "imputer = SimpleImputer(strategy=\"median\") # Strategi mengisi dengan median\n",
        "imputer.fit(housing_num) # Menghitung median untuk setiap atribut numerik\n",
        "# Transformasi ini akan dilakukan dalam pipeline\n",
        "print(\"\\nSimpleImputer telah dilatih pada atribut numerik.\")"
      ],
      "metadata": {
        "id": "mcDXKqjiGhgD"
      },
      "id": "mcDXKqjiGhgD",
      "execution_count": null,
      "outputs": []
    },
    {
      "cell_type": "markdown",
      "source": [
        "- Menangani Atribut Teks dan Kategorikal:"
      ],
      "metadata": {
        "id": "txiFBLWTGiCR"
      },
      "id": "txiFBLWTGiCR"
    },
    {
      "cell_type": "code",
      "source": [
        "from sklearn.preprocessing import OneHotEncoder\n",
        "\n",
        "housing_cat = housing[[\"ocean_proximity\"]]\n",
        "# OrdinalEncoder untuk demo, tapi OneHotEncoder lebih baik untuk kategori tanpa urutan\n",
        "# from sklearn.preprocessing import OrdinalEncoder\n",
        "# ordinal_encoder = OrdinalEncoder()\n",
        "# housing_cat_encoded = ordinal_encoder.fit_transform(housing_cat)\n",
        "\n",
        "cat_encoder = OneHotEncoder(handle_unknown='ignore', sparse_output=False) # sparse_output=False agar outputnya dense NumPy array\n",
        "# Transformasi ini akan dilakukan dalam pipeline\n",
        "print(\"OneHotEncoder telah didefinisikan untuk atribut kategorikal.\")"
      ],
      "metadata": {
        "id": "p7EwYVpqGjL_"
      },
      "id": "p7EwYVpqGjL_",
      "execution_count": null,
      "outputs": []
    },
    {
      "cell_type": "markdown",
      "source": [
        "- Custom Transformers:"
      ],
      "metadata": {
        "id": "AFDpSSK-Gmg1"
      },
      "id": "AFDpSSK-Gmg1"
    },
    {
      "cell_type": "code",
      "source": [
        "from sklearn.base import BaseEstimator, TransformerMixin\n",
        "\n",
        "# Mendapatkan indeks kolom secara dinamis, mengacu pada kolom numerik setelah pemisahan\n",
        "# Indeks ini akan digunakan di dalam CombinedAttributesAdder\n",
        "_housing_num_temp_cols = housing.select_dtypes(include=np.number).columns\n",
        "rooms_ix, bedrooms_ix, population_ix, households_ix = (\n",
        "    _housing_num_temp_cols.get_loc(\"total_rooms\"),\n",
        "    _housing_num_temp_cols.get_loc(\"total_bedrooms\"),\n",
        "    _housing_num_temp_cols.get_loc(\"population\"),\n",
        "    _housing_num_temp_cols.get_loc(\"households\")\n",
        ")\n",
        "\n",
        "class CombinedAttributesAdder(BaseEstimator, TransformerMixin):\n",
        "    def __init__(self, add_bedrooms_per_room=True):\n",
        "        self.add_bedrooms_per_room = add_bedrooms_per_room\n",
        "    def fit(self, X, y=None):\n",
        "        return self\n",
        "    def transform(self, X):\n",
        "        rooms_per_household = X[:, rooms_ix] / X[:, households_ix]\n",
        "        population_per_household = X[:, population_ix] / X[:, households_ix]\n",
        "        if self.add_bedrooms_per_room:\n",
        "            bedrooms_per_room = X[:, bedrooms_ix] / X[:, rooms_ix]\n",
        "            return np.c_[X, rooms_per_household, population_per_household, bedrooms_per_room]\n",
        "        else:\n",
        "            return np.c_[X, rooms_per_household, population_per_household]\n",
        "\n",
        "print(\"Custom transformer 'CombinedAttributesAdder' telah didefinisikan.\")"
      ],
      "metadata": {
        "id": "VC_LPBrvGno9"
      },
      "id": "VC_LPBrvGno9",
      "execution_count": null,
      "outputs": []
    },
    {
      "cell_type": "markdown",
      "source": [
        "- Transformation Pipelines:"
      ],
      "metadata": {
        "id": "8A_nXpgqGplA"
      },
      "id": "8A_nXpgqGplA"
    },
    {
      "cell_type": "code",
      "source": [
        "from sklearn.pipeline import Pipeline\n",
        "from sklearn.preprocessing import StandardScaler\n",
        "from sklearn.compose import ColumnTransformer\n",
        "\n",
        "num_attribs = list(housing_num.columns) # Nama-nama kolom numerik\n",
        "cat_attribs = [\"ocean_proximity\"] # Nama-nama kolom kategorikal\n",
        "\n",
        "# Pipeline untuk atribut numerik\n",
        "num_pipeline = Pipeline([\n",
        "    ('imputer', SimpleImputer(strategy=\"median\")),\n",
        "    ('attribs_adder', CombinedAttributesAdder()), # Custom transformer kita\n",
        "    ('std_scaler', StandardScaler()), # Standardisasi fitur\n",
        "])\n",
        "\n",
        "# Menggabungkan pipeline numerik dan kategorikal menggunakan ColumnTransformer\n",
        "full_pipeline = ColumnTransformer([\n",
        "    (\"num\", num_pipeline, num_attribs),\n",
        "    (\"cat\", OneHotEncoder(handle_unknown='ignore', sparse_output=False), cat_attribs),\n",
        "])\n",
        "\n",
        "# Menerapkan pipeline ke data pelatihan\n",
        "housing_prepared = full_pipeline.fit_transform(strat_train_set)\n",
        "print(\"\\nData telah dipersiapkan menggunakan full_pipeline (5 baris pertama):\")\n",
        "print(housing_prepared[:5])\n",
        "print(f\"Bentuk data yang dipersiapkan: {housing_prepared.shape}\")"
      ],
      "metadata": {
        "id": "NQ2qwB08GrSr"
      },
      "id": "NQ2qwB08GrSr",
      "execution_count": null,
      "outputs": []
    },
    {
      "cell_type": "markdown",
      "source": [
        "5. Memilih dan Melatih Model (Select and Train a Model)\n",
        "- Melatih dan Mengevaluasi pada Training Set:"
      ],
      "metadata": {
        "id": "VqDD107GGrzu"
      },
      "id": "VqDD107GGrzu"
    },
    {
      "cell_type": "code",
      "source": [
        "from sklearn.linear_model import LinearRegression\n",
        "from sklearn.tree import DecisionTreeRegressor\n",
        "from sklearn.metrics import mean_squared_error\n",
        "\n",
        "# Linear Regression\n",
        "print(\"\\n--- Melatih Linear Regression ---\")\n",
        "lin_reg = LinearRegression()\n",
        "lin_reg.fit(housing_prepared, housing_labels)\n",
        "housing_predictions_lin = lin_reg.predict(housing_prepared)\n",
        "lin_mse = mean_squared_error(housing_labels, housing_predictions_lin)\n",
        "lin_rmse = np.sqrt(lin_mse)\n",
        "print(f\"Linear Regression RMSE pada training set: {lin_rmse:.4f} (Indikasi underfitting)\")\n",
        "\n",
        "# DecisionTreeRegressor\n",
        "print(\"\\n--- Melatih DecisionTreeRegressor ---\")\n",
        "tree_reg = DecisionTreeRegressor(random_state=42)\n",
        "tree_reg.fit(housing_prepared, housing_labels)\n",
        "housing_predictions_tree = tree_reg.predict(housing_prepared)\n",
        "tree_mse = mean_squared_error(housing_labels, housing_predictions_tree)\n",
        "tree_rmse = np.sqrt(tree_mse)\n",
        "print(f\"Decision Tree RMSE pada training set: {tree_rmse:.4f} (Nilai 0.0 mengindikasikan overfitting parah)\")"
      ],
      "metadata": {
        "id": "3eZDK26hGuqD"
      },
      "id": "3eZDK26hGuqD",
      "execution_count": null,
      "outputs": []
    },
    {
      "cell_type": "markdown",
      "source": [
        "- Evaluasi yang Lebih Baik Menggunakan Cross-Validation:"
      ],
      "metadata": {
        "id": "bqLx68fnGxVU"
      },
      "id": "bqLx68fnGxVU"
    },
    {
      "cell_type": "code",
      "source": [
        "from sklearn.model_selection import cross_val_score\n",
        "from sklearn.ensemble import RandomForestRegressor # Untuk model ensemble\n",
        "\n",
        "def display_scores(scores):\n",
        "    print(\"Scores (RMSE per fold):\", np.round(scores, 4))\n",
        "    print(f\"Mean RMSE: {scores.mean():.4f}\")\n",
        "    print(f\"Standard deviation: {scores.std():.4f}\")\n",
        "\n",
        "print(\"\\n--- Evaluasi Model Menggunakan Cross-Validation ---\")\n",
        "\n",
        "print(\"\\nDecision Tree Cross-Validation Scores (RMSE):\")\n",
        "scores_tree_cv = cross_val_score(tree_reg, housing_prepared, housing_labels,\n",
        "                                 scoring=\"neg_mean_squared_error\", cv=10)\n",
        "tree_rmse_scores_cv = np.sqrt(-scores_tree_cv)\n",
        "display_scores(tree_rmse_scores_cv)\n",
        "# Hasil menunjukkan Decision Tree overfitting dan berkinerja lebih buruk dari Linear Regression di validasi.\n",
        "\n",
        "print(\"\\nLinear Regression Cross-Validation Scores (RMSE):\")\n",
        "scores_lin_cv = cross_val_score(lin_reg, housing_prepared, housing_labels,\n",
        "                                 scoring=\"neg_mean_squared_error\", cv=10)\n",
        "lin_rmse_scores_cv = np.sqrt(-scores_lin_cv)\n",
        "display_scores(lin_rmse_scores_cv)\n",
        "\n",
        "# RandomForestRegressor (Ensemble Learning)\n",
        "print(\"\\nMelatih RandomForestRegressor...\")\n",
        "forest_reg = RandomForestRegressor(random_state=42)\n",
        "forest_reg.fit(housing_prepared, housing_labels)\n",
        "\n",
        "print(\"\\nRandomForestRegressor Cross-Validation Scores (RMSE):\")\n",
        "scores_forest_cv = cross_val_score(forest_reg, housing_prepared, housing_labels,\n",
        "                                   scoring=\"neg_mean_squared_error\", cv=10)\n",
        "forest_rmse_scores_cv = np.sqrt(-scores_forest_cv)\n",
        "display_scores(forest_rmse_scores_cv)\n",
        "# RandomForestRegressor menunjukkan hasil yang jauh lebih baik, namun masih ada indikasi overfitting."
      ],
      "metadata": {
        "id": "xNJ10doFGycv"
      },
      "id": "xNJ10doFGycv",
      "execution_count": null,
      "outputs": []
    },
    {
      "cell_type": "markdown",
      "source": [
        "6. Menyesuaikan Model (Fine-Tune Your Model)\n",
        "- Grid Search:"
      ],
      "metadata": {
        "id": "XwDiZnEWGz5a"
      },
      "id": "XwDiZnEWGz5a"
    },
    {
      "cell_type": "code",
      "source": [
        "from sklearn.model_selection import GridSearchCV\n",
        "\n",
        "param_grid = [\n",
        "    {'n_estimators': [3, 10, 30], 'max_features': [2, 4, 6, 8]}, # Set pertama parameter\n",
        "    {'bootstrap': [False], 'n_estimators': [3, 10], 'max_features': [2, 3, 4]}, # Set kedua parameter\n",
        "]\n",
        "\n",
        "forest_reg_gs = RandomForestRegressor(random_state=42)\n",
        "grid_search = GridSearchCV(forest_reg_gs, param_grid, cv=5,\n",
        "                           scoring='neg_mean_squared_error',\n",
        "                           return_train_score=True, n_jobs=-1) # n_jobs=-1 untuk menggunakan semua core CPU\n",
        "\n",
        "print(\"\\n--- Melakukan Grid Search (Ini mungkin memakan waktu cukup lama) ---\")\n",
        "grid_search.fit(housing_prepared, housing_labels)\n",
        "print(\"Grid Search selesai.\")\n",
        "\n",
        "print(\"\\nHyperparameter terbaik:\", grid_search.best_params_) # Parameter terbaik yang ditemukan\n",
        "print(\"Estimator terbaik (model akhir setelah Grid Search):\", grid_search.best_estimator_) # Estimator terbaik\n",
        "\n",
        "cvres = grid_search.cv_results_\n",
        "print(\"\\nHasil Grid Search (RMSE per kombinasi hyperparameter):\")\n",
        "for mean_score, params in zip(cvres[\"mean_test_score\"], cvres[\"params\"]):\n",
        "    print(f\"  {np.sqrt(-mean_score):.4f}\", params)\n",
        "# RMSE sekitar 49,682 ditemukan lebih baik dari default."
      ],
      "metadata": {
        "id": "IVewLkMvG1ZO"
      },
      "id": "IVewLkMvG1ZO",
      "execution_count": null,
      "outputs": []
    },
    {
      "cell_type": "markdown",
      "source": [
        "- Randomized Search: Disebutkan sebagai alternatif yang lebih disukai untuk ruang pencarian hyperparameter yang besar"
      ],
      "metadata": {
        "id": "vpPlk7kPG2An"
      },
      "id": "vpPlk7kPG2An"
    },
    {
      "cell_type": "markdown",
      "source": [
        "7. Menganalisis Model Terbaik dan Kesalahannya (Analyze the Best Models and Their Errors)\n",
        "- Analisis Feature Importance:"
      ],
      "metadata": {
        "id": "YXHh3XaKG7Gp"
      },
      "id": "YXHh3XaKG7Gp"
    },
    {
      "cell_type": "code",
      "source": [
        "# Mendapatkan nama atribut setelah transformasi untuk analisis feature importance\n",
        "# Nama-nama atribut numerik asli\n",
        "num_attribs_raw = list(strat_train_set.select_dtypes(include=np.number).drop(\"median_house_value\", axis=1).columns)\n",
        "\n",
        "# Nama-nama atribut tambahan dari CombinedAttributesAdder\n",
        "extra_attribs_names = [\"rooms_per_household\", \"population_per_household\", \"bedrooms_per_room\"]\n",
        "\n",
        "# Nama-nama atribut kategorikal setelah one-hot encoding\n",
        "cat_encoder = full_pipeline.named_transformers_[\"cat\"]\n",
        "cat_one_hot_attribs_names = list(cat_encoder.get_feature_names_out(cat_attribs))\n",
        "\n",
        "# Gabungkan semua nama atribut yang diproses oleh full_pipeline\n",
        "all_features_names = num_attribs_raw + extra_attribs_names + cat_one_hot_attribs_names\n",
        "\n",
        "feature_importances = grid_search.best_estimator_.feature_importances_\n",
        "sorted_feature_importances = sorted(zip(feature_importances, all_features_names), reverse=True)\n",
        "\n",
        "print(\"\\n--- Feature Importances (terurut dari yang terpenting) ---\")\n",
        "for score, name in sorted_feature_importances:\n",
        "    print(f\"  {name}: {score:.4f}\")\n",
        "# Informasi ini dapat digunakan untuk menghilangkan fitur yang kurang berguna."
      ],
      "metadata": {
        "id": "RSBIF_IsG34D"
      },
      "id": "RSBIF_IsG34D",
      "execution_count": null,
      "outputs": []
    },
    {
      "cell_type": "markdown",
      "source": [
        "8. Mengevaluasi Sistem pada Test Set (Evaluate Your System on the Test Set)\n",
        "- Evaluasi model akhir pada test set setelah fine-tuning."
      ],
      "metadata": {
        "id": "MaixAAJ1G93G"
      },
      "id": "MaixAAJ1G93G"
    },
    {
      "cell_type": "code",
      "source": [
        "final_model = grid_search.best_estimator_ # Model terbaik dari Grid Search\n",
        "\n",
        "# Mempersiapkan test set (sudah dipisahkan di awal)\n",
        "X_test_raw = strat_test_set.drop(\"median_house_value\", axis=1)\n",
        "y_test = strat_test_set[\"median_house_value\"].copy()\n",
        "\n",
        "# Menerapkan pipeline transformasi ke test set (PENTING: gunakan .transform(), bukan .fit_transform())\n",
        "X_test_prepared = full_pipeline.transform(X_test_raw)\n",
        "final_predictions = final_model.predict(X_test_prepared)\n",
        "\n",
        "# Menghitung RMSE akhir\n",
        "final_mse = mean_squared_error(y_test, final_predictions)\n",
        "final_rmse = np.sqrt(final_mse)\n",
        "print(f\"\\n--- Final RMSE pada Test Set: {final_rmse:.4f} ---\")\n",
        "\n",
        "# Menghitung interval kepercayaan 95% untuk RMSE\n",
        "confidence = 0.95\n",
        "squared_errors = (final_predictions - y_test) ** 2\n",
        "# stats.t.interval membutuhkan mean dan standard error dari kuadrat kesalahan\n",
        "t_interval_result = stats.t.interval(confidence, len(squared_errors) - 1,\n",
        "                                     loc=squared_errors.mean(),\n",
        "                                     scale=stats.sem(squared_errors))\n",
        "# Interval untuk RMSE adalah akar kuadrat dari interval untuk MSE\n",
        "rmse_interval = np.sqrt(t_interval_result)\n",
        "\n",
        "print(f\"Interval kepercayaan 95% untuk RMSE: {rmse_interval}\")\n",
        "# Jika performa test set sedikit lebih buruk dari cross-validation, itu normal. Hindari tweak hyperparameter pada test set."
      ],
      "metadata": {
        "id": "d5Z7U8mMG_qs"
      },
      "id": "d5Z7U8mMG_qs",
      "execution_count": null,
      "outputs": []
    },
    {
      "cell_type": "markdown",
      "source": [
        "9. Meluncurkan, Memantau, dan Memelihara Sistem (Launch, Monitor, and Maintain Your System)\n",
        "- Penyebaran (Deployment): Model dapat disimpan (joblib) dan disebarkan sebagai layanan web (REST API, gRPC) atau di platform cloud seperti Google Cloud AI Platform.\n",
        "- Pemantauan (Monitoring): Memantau performa model secara langsung (model cenderung \"membusuk\" karena data berubah) dan kualitas data input.\n",
        "- Pemeliharaan (Maintenance): Mengotomatiskan pengumpulan data baru, pelabelan, pelatihan ulang model, dan penyebaran model baru. Penting untuk memiliki backup model dan dataset"
      ],
      "metadata": {
        "id": "HneJgiuXHBXu"
      },
      "id": "HneJgiuXHBXu"
    }
  ],
  "metadata": {
    "colab": {
      "provenance": [],
      "include_colab_link": true
    },
    "kernelspec": {
      "display_name": "Python 3",
      "name": "python3"
    },
    "language_info": {
      "name": "python"
    }
  },
  "nbformat": 4,
  "nbformat_minor": 5
}